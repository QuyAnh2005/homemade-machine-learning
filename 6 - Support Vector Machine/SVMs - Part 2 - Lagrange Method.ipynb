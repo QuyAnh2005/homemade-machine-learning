{
 "cells": [
  {
   "cell_type": "markdown",
   "id": "ae443f6d",
   "metadata": {},
   "source": [
    "# Support Vector Machines - Part 2\n",
    "\n",
    "## Overview\n",
    "- [1. Review about Primal Support Vector Machine?](#1)\n",
    "- [2. Dual Support Vector Machine](#2)\n",
    "- [3. Hard - Soft Margin](#3)\n",
    "    - [3.1 Implementation](#3.1)\n",
    "    - [3.2 `Sklearn`](#3.2)\n",
    "- [3. Kernel SVM](#4)\n",
    "    - [3.1 Implementation](#4.1)\n",
    "    - [3.2 `Sklearn`](#4.2)\n",
    "- [5. Visualization](#5)\n",
    "- [6. References](#8)"
   ]
  },
  {
   "cell_type": "markdown",
   "id": "8d01f57e",
   "metadata": {},
   "source": [
    "<a name='1' ></a>\n",
    "## 1. Review about Primal Support Vector Machine\n",
    "In the past notebook, we discussed about SVMs and the way how to solve it by Gradient Descent method. Now, we have a new approach through Lagrange Method. \n",
    "\n",
    "**Primal Support Vector Machine:** Assume we have a dataset that is linearly seperable with each pair of point, $(x^{(1)}, y_1), (x^{(2)}, y_2), (x^{(3)}, y_3), ..., (x^{(n)}, y_n)$, where $n$ is the number of observations, $x^{(i)} = (x_1, x_2, ..., x_d)$ and $d$ is the number of features of $i^{th}$ observation. We need to find the optimal hyperplane with the **largest margin**  to separate datasets into two parts (one positive, one negative). Let example $\\mathbf{x} \\in \\mathbb{R}^d$ be an element of the data space. Consider a function\n",
    "\n",
    "$$\n",
    "f: \\mathbb{R}^d \\rightarrow \\mathbb{R} \\\\\n",
    "\\mathbf{x} \\mapsto f(\\mathbf{x}) := \\mathbf{w^T x} + b = \\langle \\mathbf{w, x} \\rangle + b\n",
    "$$\n",
    "\n",
    "parametrized by $\\mathbf{w} \\in \\mathbb{R}^d$ and $b \\in \\mathbb{R}$. In the other words, we will optimize the objecive function with some constraints\n",
    "\n",
    "$$\\min_{\\mathbf{w}, b, \\mathbf{\\xi}} \\frac{1}{2} \\Vert \\mathbf{w} \\Vert^2 + C\\sum_{i=1}^n \\xi_i$$\n",
    "\n",
    "subject to \n",
    "- $y_i (\\mathbf{w^T x^{(i)}} + b) \\geq 1 - \\xi_i$\n",
    "- $\\xi_i \\geq 0$\n",
    "\n",
    "for all $i=1, 2, ..., n$"
   ]
  },
  {
   "cell_type": "markdown",
   "id": "efc7a185",
   "metadata": {},
   "source": [
    "<a name='2' ></a>\n",
    "## 2. Dual Support Vector Machine\n",
    "\n",
    "From an optimization problem with constraints, we can convert to a dual problem through [Lagrange multiplier](https://en.wikipedia.org/wiki/Lagrange_multiplier)\n",
    "\n",
    "$$\\mathcal{L}(\\mathbf{w}, b, \\xi, \\alpha, \\gamma) = \\frac{1}{2} \\Vert \\mathbf{w} \\Vert^2 + C\\sum_{i=1}^n \\xi_i - \\underbrace{\\sum_{i=1}^{n} \\alpha_i \\left( y_i (\\mathbf{w^T x^{(i)}} + b) - 1 + \\xi_i\\right)}_\\text{first constraint}  - \\underbrace{\\sum_{i=1}^n \\gamma_i \\xi_i}_\\text{second constraint}$$\n",
    "\n",
    "where $\\alpha_i, \\gamma_i \\geq 0 \\forall i=1,...,n$. By differentiating the Lagrangian with respect to the three primal variables $\\mathbf{w} , b$ and and $\\xi$ respectively, we obtain\n",
    "\n",
    "\\begin{align*}\n",
    "    \\frac{\\partial \\mathcal{L}}{\\partial \\mathbf{w}} &= \\mathbf{w}^T - \\sum_{i=1}^{n} \\alpha_i y_i (\\mathbf{x^{(i)}})^T \\\\\n",
    "    \\frac{\\partial \\mathcal{L}}{\\partial b} &= - \\sum_{i=1}^n \\alpha_i y_i\\\\\n",
    "    \\frac{\\partial \\mathcal{L}}{\\partial \\xi_i} &= C - \\alpha_i - \\gamma_i\n",
    "\\end{align*}\n",
    "\n",
    "We now find the maximum of the Lagrangian by setting each of these\n",
    "partial derivatives to zero. We find\n",
    "\n",
    "\\begin{align*}\n",
    "    \\mathbf{w} = \\sum_{i=1}^{n} \\alpha_i y_i \\mathbf{x^{(i)}} \\\\\n",
    "    \\sum_{i=1}^n \\alpha_i y_i = 0 \\forall i \\\\\n",
    "\\end{align*}"
   ]
  },
  {
   "cell_type": "markdown",
   "id": "6d78de8e",
   "metadata": {},
   "source": [
    "By substituting the expression for $\\mathbf{w}$ into the Lagrangian, we obtain the dual\n",
    "\n",
    "$$\\mathcal{D}(\\mathbf{w}, b, \\xi) = \\frac{1}{2} \\sum_{i=1}^n \\sum_{j=1}^{n} y_i y_j \\alpha_i \\alpha_j \\mathbf{x^{(i)}} \\mathbf{x^{(j)}} + C\\sum_{i=1}^n \\xi_i - \\sum_{i=1}^{n} \\alpha_i y_i \\left( \\sum_{j=1}^{n} \\alpha_j y_j \\mathbf{x^{(j)}}\\right) \\mathbf{x^{(i)}} - b \\sum_{i=1}^{n} \\alpha_i y_i + \\sum_{i=1}^n \\alpha_i - \\sum_{i=1}^{n} \\alpha_i \\xi_i - \\sum_{i=1}^{n} \\gamma_i \\xi_i$$\n",
    "\n",
    "Due to $\\sum_{i=1}^n \\alpha_i y_i = 0$, \n",
    "\n",
    "\\begin{align*}\n",
    "\\mathcal{D}(\\mathbf{w}, b, \\xi) &= -\\frac{1}{2} \\sum_{i=1}^n \\sum_{j=1}^{n} y_i y_j \\alpha_i \\alpha_j \\mathbf{x^{(i)}} \\mathbf{x^{(j)}} + C\\sum_{i=1}^n \\xi_i + \\sum_{i=1}^n \\alpha_i - \\sum_{i=1}^{n} \\alpha_i \\xi_i - \\sum_{i=1}^{n} \\gamma_i \\xi_i \\\\\n",
    "&= -\\frac{1}{2} \\sum_{i=1}^n \\sum_{j=1}^{n} y_i y_j \\alpha_i \\alpha_j \\mathbf{x^{(i)}} \\mathbf{x^{(j)}} + \\sum_{i=1}^n \\alpha_i + \\sum_{i=1}^n (C - \\alpha_i - \\gamma_i) \\xi_i\n",
    "\\end{align*}\n",
    "\n",
    "Moreover, by setting $\\frac{\\partial \\mathcal{L}}{\\partial \\xi_i} = C - \\alpha_i - \\gamma_i = 0$, using the same equation and recalling that the Lagrange multiplers $\\gamma_i$ are non-negative, we conclude that $\\alpha_i \\leq C$. We now obtain the dual optimization problem of the SVM, which is expressed exclusively in terms of the Lagrange multipliers $\\alpha_i$. Recall from Lagrangian duality that we maximize the dual problem.\n",
    "This is equivalent to minimizing the negative dual problem, such that we end up with the *dual SVM*\n",
    "\n",
    "\\begin{align*}\n",
    "        &\\min_{\\mathbf{\\alpha}} \\frac{1}{2} \\sum_{i=1}^n \\sum_{j=1}^{n} y_i y_j \\alpha_i \\alpha_j \\mathbf{x^{(i)}} \\mathbf{x^{(j)}} - \\sum_{i=1}^n \\alpha_i \\\\\n",
    "        &\\text{subject to} \\\\\n",
    "        &\\sum_{i=1}^n \\alpha_i y_i = 0 \\\\\n",
    "        &0 \\leq \\alpha_i \\leq C \\text{ for } i = 1, 2, ..., n\n",
    "\\end{align*}"
   ]
  },
  {
   "cell_type": "markdown",
   "id": "fefb13a8",
   "metadata": {},
   "source": [
    "<a name='3' ></a>\n",
    "## 3. Hard - Soft Margin\n",
    "The hard margin and soft margin problems are both convex quadratic optimization\n",
    "problems with linear constraints. Such problems are known as *Quadratic Programming (QP)* problems. Many off-the-shelf solvers are available to solve QP problems using a variety of techniques. In this notebook, we will [cvxopt](https://cvxopt.org/examples/tutorial/qp.html) to do it ([more detail at here](https://buildmedia.readthedocs.org/media/pdf/cvxopt/dev/cvxopt.pdf)). \n",
    "\n",
    "Vectorize the end formular, we have \n",
    "\n",
    "\\begin{align*}\n",
    "        &\\min_{\\mathbf{\\alpha}} \\frac{1}{2} \\alpha^T \\mathbf{Q} \\alpha - e^T \\alpha \\\\\n",
    "        &\\text{subject to} \\\\\n",
    "        &\\mathbf{y}^T \\mathbf{\\alpha} = 0 \\\\\n",
    "        &\\begin{bmatrix} \\mathbf{G_1} \\\\ \\mathbf{G_2} \\end{bmatrix} \\leq \\begin{bmatrix} \\mathbf{0} \\\\ \\mathbf{C} \\end{bmatrix}\n",
    "\\end{align*}\n",
    "\n",
    "where \n",
    "- $e$ is the vector of all ones\n",
    "- $\\mathbf{Q}$ is an $n$ by $n$ positive semidefinite matrix, where $Q_{ij} \\equiv y_i y_j \\mathbf{x^{(i)} x^{(j)}}$ or \n",
    "$$\\mathbf{Q} = \\mathbf{V V^T} $$\n",
    "where $\\mathbf{V} = \\begin{bmatrix} y_1 \\mathbf{x}^{(1)} & y_2 \\mathbf{x}^{(2)} & \\cdots & y_n \\mathbf{x}^{(n)} \\end{bmatrix}^T$.\n",
    "- $\\alpha = \\begin{bmatrix} \\alpha_1 & \\alpha_2 & \\cdots & \\alpha_n \\end{bmatrix}^T$\n",
    "- $\\mathbf{y} = \\begin{bmatrix} y_1 & y_2 & \\cdots & y_n \\end{bmatrix}^T$\n",
    "- $\\mathbf{0}$ is the vector of all zeros\n",
    "- $\\mathbf{C}$ is the vector of all $C$\n",
    "\n",
    "After using `cvxopt` package to find $\\alpha$, we will get\n",
    "\n",
    "\\begin{align*}\n",
    "    \\mathbf{w} = \\sum_{i \\in S} \\alpha_i y_i \\mathbf{x^{(i)}} = \\alpha^T_S \\mathbf{V_S} \\\\\n",
    "    b = \\frac{1}{n_S} \\sum_{i \\in S} (y_i - \\hat{\\mathbf{w}} \\mathbf{x}^{(i)})\n",
    "\\end{align*}\n",
    "where $S = \\{ \\alpha_i: \\alpha_i > 0 \\}$. We only need to sum over the **support vectors** (i.e. the samples that lie within the margin) because the dual coefficients $\\alpha_i$ are zero for the other samples."
   ]
  },
  {
   "cell_type": "markdown",
   "id": "b7516079",
   "metadata": {},
   "source": [
    "<a name='3.1' ></a>\n",
    "### 3.1 Implementation"
   ]
  },
  {
   "cell_type": "code",
   "execution_count": 1,
   "id": "d8d834f8",
   "metadata": {},
   "outputs": [],
   "source": [
    "# Package\n",
    "import numpy as np\n",
    "import matplotlib.pyplot as plt\n",
    "\n",
    "from sklearn import datasets\n",
    "from cvxopt import matrix, solvers\n",
    "from utils import visualize_svm"
   ]
  },
  {
   "cell_type": "code",
   "execution_count": 2,
   "id": "728c091b",
   "metadata": {},
   "outputs": [],
   "source": [
    "class OwnSVM:\n",
    "    \"\"\"Support Vector Machine for classification from scratch.\"\"\"\n",
    "    \n",
    "    def __init__(self, C=1.0, tol=1e-3):\n",
    "        self.C = C\n",
    "        self.tol = tol    # alpha_i < tol means alpha_i == 0\n",
    "        self.n_samples = None\n",
    "        self.w_ = None\n",
    "        self.w = None     # don't worry, w is transpose of self.w_\n",
    "        self.b = None\n",
    "        self.support_vectors_ = None\n",
    "        \n",
    "    def fit(self, X, y):\n",
    "        \"\"\"Training model to find the optimal hyperplane.\"\"\"\n",
    "        # Use cvxopt to solve \n",
    "        self.n_samples = len(y)\n",
    "        V = np.array([X[i] * y[i] for i in range(self.n_samples)])\n",
    "        Q = matrix(np.dot(V, V.T))\n",
    "        e = matrix(-np.ones((self.n_samples, 1)))\n",
    "        \n",
    "        # Constraint [G1, G2].T <= [0, C].T\n",
    "        G1 = -np.eye(self.n_samples)\n",
    "        G2 = np.eye(self.n_samples)\n",
    "        G = matrix(np.vstack((G1, G2)))\n",
    "        h1 = np.zeros((self.n_samples, 1))\n",
    "        h2 = self.C * np.ones((self.n_samples, 1))\n",
    "        h = matrix(np.vstack((h1, h2)))\n",
    "        # Constraint y.T alpha = 0\n",
    "        yT = np.reshape(y, (1, self.n_samples))\n",
    "        A = matrix(yT, tc='d') \n",
    "        b = matrix(np.zeros((1, 1)))\n",
    "        \n",
    "        # Solve\n",
    "        solvers.options['show_progress'] = False\n",
    "        solution = solvers.qp(Q, e, G, h, A, b)\n",
    "        alpha = np.array(solution['x'])\n",
    "        \n",
    "        # We only consider 0 < alpha_i < C, because\n",
    "        # alpha_i = 0 is meaningless when finding w\n",
    "        S = np.intersect1d(np.where(alpha > self.tol)[0], \n",
    "                           np.where(alpha <= self.C)[0])\n",
    "        S = S[np.lexsort((S, y[S]))]    # sort indices to label -1, 1\n",
    "        self.support_vectors_ = X[S, :]\n",
    "        VS = V[S, :]\n",
    "        alphaS = alpha[S]\n",
    "        self.w_ = alphaS.T @ VS\n",
    "        self.b = np.mean(y[S] - self.support_vectors_ @ self.w_.T)\n",
    "        # Get self.w to visualize hyperplane later\n",
    "        self.w = np.squeeze(self.w_.T)\n",
    "        \n",
    "    def predict(self, X):\n",
    "        \"\"\"Predict label for given input X.\"\"\"\n",
    "        y_pred = np.sign(np.dot(X, self.w_.T) + self.b)\n",
    "        return np.squeeze(y_pred)"
   ]
  },
  {
   "cell_type": "code",
   "execution_count": 3,
   "id": "3a0868c3",
   "metadata": {},
   "outputs": [],
   "source": [
    "X, y = datasets.make_blobs(n_samples=100, n_features=2, centers=2, cluster_std=1.05, random_state=40)\n",
    "y = np.where(y == 0, -1, 1)\n",
    "\n",
    "SVM = OwnSVM()\n",
    "SVM.fit(X, y)"
   ]
  },
  {
   "cell_type": "code",
   "execution_count": 4,
   "id": "4f7f85c3",
   "metadata": {},
   "outputs": [
    {
     "data": {
      "text/plain": [
       "array([[ 0.56085542, -8.37942864],\n",
       "       [ 4.80039023, -6.81280209],\n",
       "       [ 3.72312513, -4.92573404]])"
      ]
     },
     "execution_count": 4,
     "metadata": {},
     "output_type": "execute_result"
    }
   ],
   "source": [
    "SVM.support_vectors_"
   ]
  },
  {
   "cell_type": "markdown",
   "id": "86c35f87",
   "metadata": {},
   "source": [
    "<a name='3.2' ></a>\n",
    "### 3.2 `Sklearn`"
   ]
  },
  {
   "cell_type": "code",
   "execution_count": 5,
   "id": "c0dcf6b2",
   "metadata": {},
   "outputs": [
    {
     "data": {
      "text/plain": [
       "array([[ 0.56085542, -8.37942864],\n",
       "       [ 4.80039023, -6.81280209],\n",
       "       [ 3.72312513, -4.92573404]])"
      ]
     },
     "execution_count": 5,
     "metadata": {},
     "output_type": "execute_result"
    }
   ],
   "source": [
    "from sklearn.svm import SVC \n",
    "\n",
    "clf = SVC(kernel='linear', random_state=365)\n",
    "clf.fit(X, y)\n",
    "clf.support_vectors_"
   ]
  },
  {
   "cell_type": "code",
   "execution_count": 6,
   "id": "92a1f53c",
   "metadata": {},
   "outputs": [
    {
     "data": {
      "text/plain": [
       "True"
      ]
     },
     "execution_count": 6,
     "metadata": {},
     "output_type": "execute_result"
    }
   ],
   "source": [
    "# Check\n",
    "(SVM.support_vectors_ == clf.support_vectors_).all()"
   ]
  },
  {
   "cell_type": "code",
   "execution_count": 7,
   "id": "2b532c3c",
   "metadata": {},
   "outputs": [
    {
     "data": {
      "image/png": "[encoded data removed]",
      "text/plain": [
       "<Figure size 432x288 with 1 Axes>"
      ]
     },
     "metadata": {
      "needs_background": "light"
     },
     "output_type": "display_data"
    }
   ],
   "source": [
    "# Visualization\n",
    "visualize_svm(X, y, SVM)"
   ]
  },
  {
   "cell_type": "markdown",
   "id": "be9293c1",
   "metadata": {},
   "source": [
    "**Conclusion:** As you saw, we get the same results about *support vectors* in the both of two model (self-built and sklearn). \n",
    "\n",
    "**Note:** You can change parameter `cluster_std = 2.05` when initializing dataset to see our model in *soft margin* case."
   ]
  },
  {
   "cell_type": "markdown",
   "id": "871f1c02",
   "metadata": {},
   "source": [
    "<a name='4' ></a>\n",
    "## 4. Kernel SVM\n",
    "\n",
    "Although easily interpretable, linear classifiers are of limited value. They are simply too restrictive for data embedded in a high-dimensional space and which may have the structured separation. To build more sophisticated classification curves, the feature space for SVM must be enriched. SVM does this by included nonlinear features and then building hyperplanes in this new space. To do this, one simply maps the data into a nonlinear, higher-\n",
    "dimensional space\n",
    "\n",
    "$$\\mathbf{x} \\mapsto \\phi(\\mathbf{x})$$\n",
    "\n",
    "A new problem is\n",
    "\n",
    "$$\n",
    "f: \\mathbb{R}^d \\rightarrow \\mathbb{R} \\\\\n",
    "\\mathbf{x} \\mapsto f(\\mathbf{x}) := \\mathbf{w^T}\\phi(\\mathbf{x}) + b = \\langle \\mathbf{w}, \\phi(\\mathbf{x}) \\rangle + b\n",
    "$$\n",
    "\n",
    "parametrized by $\\mathbf{w} \\in \\mathbb{R}^d$ and $b \\in \\mathbb{R}$. By constructing similarly, we need to optimize\n",
    "\n",
    "\\begin{align*}\n",
    "        &\\min_{\\mathbf{\\alpha}} \\frac{1}{2} \\alpha^T \\mathbf{Q} \\alpha - e^T \\alpha \\\\\n",
    "        &\\text{subject to} \\\\\n",
    "        &\\mathbf{y}^T \\mathbf{\\alpha} = 0 \\\\\n",
    "        &\\begin{bmatrix} \\mathbf{G_1} \\\\ \\mathbf{G_2} \\end{bmatrix} \\leq \\begin{bmatrix} \\mathbf{0} \\\\ \\mathbf{C} \\end{bmatrix}\n",
    "\\end{align*}\n",
    "\n",
    "where \n",
    "- $e$ is the vector of all ones\n",
    "- $\\mathbf{Q}$ is an $n$ by $n$ positive semidefinite matrix, where $Q_{ij} \\equiv y_i y_j K(\\mathbf{x^{(i)}}, \\mathbf{x^{(j)}})$, where $K(\\mathbf{x^{(i)}}, \\mathbf{x^{(j)}}) = \\phi (\\mathbf{x^{(i)}})^T \\phi (\\mathbf{x^{(j)}})$ \n",
    "\n",
    "- $\\alpha = \\begin{bmatrix} \\alpha_1 & \\alpha_2 & \\cdots & \\alpha_n \\end{bmatrix}^T$\n",
    "- $\\mathbf{y} = \\begin{bmatrix} y_1 & y_2 & \\cdots & y_n \\end{bmatrix}^T$\n",
    "- $\\mathbf{0}$ is the vector of all zeros\n",
    "- $\\mathbf{C}$ is the vector of all $C$\n",
    "\n",
    "Once the optimization problem is solved, the output of decision_function for a given sample $\\mathbf{x}$  becomes:\n",
    "\n",
    "$$\\sum_{i\\in S} y_i \\alpha_i K(\\mathbf{x}^{(i)}, \\mathbf{x}) + b,$$\n",
    "\n",
    "where\n",
    "$$b = \\frac{1}{n_S} \\sum_{i\\in S} (y_i - \\sum_{j\\in S} \\alpha_j y_j \\phi(\\mathbf{x}^{(j)})^T \\phi(\\mathbf{x}^{(i)}) = \\frac{1}{n_S} \\sum_{i\\in S} \\left( y_i - \\sum_{j\\in S} \\alpha_j y_j K(\\mathbf{x}^{(i)}, \\mathbf{x}^{(j)}) \\right)$$\n",
    "\n",
    "$S$ is a set of all supprt vectors. "
   ]
  },
  {
   "cell_type": "markdown",
   "id": "7ab4cb9e",
   "metadata": {},
   "source": [
    "#### Some Kernel Functions \n",
    "\n",
    "\\begin{align*}\n",
    "    \\text{Linear: } &K(\\mathbf{a, b}) = \\mathbf{a}^T\\mathbf{b} \\\\\n",
    "    \\text{Polynomial: } &K(\\mathbf{a, b}) = (\\gamma\\mathbf{a}^T\\mathbf{b} + \\tau)^d \\\\\n",
    "    \\text{Gaussian RBF: } &K(\\mathbf{a, b}) = \\exp(-\\gamma \\Vert \\mathbf{a} - \\mathbf{b} \\Vert^2)\n",
    "\\end{align*}\n",
    "\n",
    "where $d$ is the degree of polynomials to be considered, which is exceptionally large to evaluate without using the kernel trick, and $\\gamma$ is the width of the Gaussian kernel measuring the distance between individual data points $\\mathbf{x}^{(i)}$ and the classification line, $\\tau$ is bias of the polynomial.\n",
    "\n",
    "<a name='4.1' ></a>\n",
    "### 4.1 Implementation"
   ]
  },
  {
   "cell_type": "code",
   "execution_count": 8,
   "id": "6598294b",
   "metadata": {},
   "outputs": [],
   "source": [
    "class KernelSVM:\n",
    "    \"\"\"Kernel Support Vector Machine for classification from scratch.\"\"\"\n",
    "    \n",
    "    def __init__(self, C=1.0, tol=1e-3, kernel='rbf', degree=3, coef0=0):\n",
    "        self.C = C\n",
    "        self.tol = tol    # alpha_i < tol means alpha_i == 0\n",
    "        self.kernel_type = kernel\n",
    "        self.degree = degree\n",
    "        self.coef0 = coef0\n",
    "        self.n_samples = None\n",
    "        self.n_features = None\n",
    "        self.b = None\n",
    "        self.support_ = None     # indices of support vectors\n",
    "        self.support_vectors_ = None\n",
    "        self.n_support_ = None\n",
    "        self.dual_coef_ = None     # alpha_i * y_i\n",
    "        self.gamma = None\n",
    "        \n",
    "    def kernel_rbf(self, a, b):\n",
    "        \"\"\"Kernel: Gaussian Radial Bias Function.\"\"\"\n",
    "        return np.exp(- self.gamma * np.sum((a - b)**2))\n",
    "    \n",
    "    def kernel_poly(self, a, b):\n",
    "        \"\"\"Kernel: Polynomial.\"\"\"\n",
    "        return (self.gamma * np.dot(a.T, b) + self.coef0)**self.degree\n",
    "    \n",
    "    def kernel(self, a, b):\n",
    "        \"\"\"Get kernel for model.\"\"\"\n",
    "        if self.kernel_type == 'rbf':\n",
    "            return self.kernel_rbf(a, b)\n",
    "        else:\n",
    "            return self.kernel_poly(a, b)\n",
    "    \n",
    "    def get_Q(self):\n",
    "        \"\"\"Get matrix Q to solve by cvxopt.\"\"\"\n",
    "        Q = np.array(\n",
    "            [y[i] * y[j] * self.kernel(X[i], X[j])\n",
    "             for i in range(self.n_samples)\n",
    "             for j in range(self.n_samples)]\n",
    "        )\n",
    "        Q = np.reshape(Q, (self.n_samples, self.n_samples))\n",
    "        return Q\n",
    "    \n",
    "    def get_K(self, X, alpha):\n",
    "        \"\"\"Get matrix K to find intercept b.\"\"\"\n",
    "        K = np.array(\n",
    "            [alpha[j] * y[j] * self.kernel(X[i], X[j])\n",
    "             for i in self.support_ for j in self.support_]\n",
    "        )\n",
    "        K = np.reshape(K, (len(self.support_), len(self.support_)))\n",
    "        return K\n",
    "        \n",
    "    def fit(self, X, y):\n",
    "        \"\"\"Training model to find the optimal hyperplane.\"\"\"\n",
    "        # Use cvxopt to solve \n",
    "        self.n_samples, self.n_features = X.shape\n",
    "        self.gamma = 1 / (self.n_features * X.var())\n",
    "        Q = self.get_Q()\n",
    "        Q_ = matrix(Q)\n",
    "        e = matrix(-np.ones((self.n_samples, 1)))\n",
    "        \n",
    "        # Constraint [G1, G2].T <= [0, C].T\n",
    "        G1 = -np.eye(self.n_samples)\n",
    "        G2 = np.eye(self.n_samples)\n",
    "        G = matrix(np.vstack((G1, G2)))\n",
    "        h1 = np.zeros((self.n_samples, 1))\n",
    "        h2 = self.C * np.ones((self.n_samples, 1))\n",
    "        h = matrix(np.vstack((h1, h2)))\n",
    "        # Constraint y.T alpha = 0\n",
    "        yT = np.reshape(y, (1, self.n_samples))\n",
    "        A = matrix(yT, tc='d') \n",
    "        b = matrix(np.zeros((1, 1)))\n",
    "        \n",
    "        # Solve\n",
    "        solvers.options['show_progress'] = False\n",
    "        solution = solvers.qp(Q_, e, G, h, A, b)\n",
    "        alpha = np.array(solution['x'])\n",
    "        \n",
    "        # We only consider 0 < alpha_i < C, because\n",
    "        # alpha_i = 0 is meaningless when finding w\n",
    "        self.support_ = np.intersect1d(np.where(alpha > self.tol)[0], \n",
    "                                       np.where(alpha <= self.C)[0])\n",
    "        # sort indices of support vectors by label -1 and 1 \n",
    "        self.support_ = self.support_[np.lexsort((self.support_, y[self.support_]))]  \n",
    "        self.n_support_ = len(self.support_)\n",
    "        self.support_vectors_ = X[self.support_, :]\n",
    "        self.dual_coef_ = np.squeeze(alpha[self.support_]) * y[self.support_]\n",
    "        # Note: K is a matrix of ALL K(xi, xj), not ONLY K(xi, xj)\n",
    "        K = self.get_K(X, alpha)\n",
    "        self.b = np.mean(y[self.support_] - np.sum(K, axis=1))\n",
    "        \n",
    "    def predict(self, X):\n",
    "        \"\"\"Predict label for given input X.\"\"\"\n",
    "        y_pred = []\n",
    "        for idx in range(len(X)):\n",
    "            pred = np.sum([self.dual_coef_[i] * self.kernel(self.support_vectors_[i, :], X[idx])\n",
    "                   for i in range(self.n_support_)]) + self.b\n",
    "            if pred > 0:\n",
    "                y_pred.append(1)     # assign label 1\n",
    "            else:\n",
    "                y_pred.append(-1)     # assign label -1\n",
    "            \n",
    "        return np.squeeze(y_pred)"
   ]
  },
  {
   "cell_type": "code",
   "execution_count": 9,
   "id": "265bea74",
   "metadata": {},
   "outputs": [],
   "source": [
    "# Re-innitialize dataset\n",
    "X, y = datasets.make_blobs(n_samples=100, n_features=2, centers=2, cluster_std=3.05, random_state=40)\n",
    "y = np.where(y == 0, -1, 1)\n",
    "\n",
    "kernelSVM = KernelSVM(kernel='rbf')\n",
    "kernelSVM.fit(X, y)"
   ]
  },
  {
   "cell_type": "code",
   "execution_count": 10,
   "id": "a5d212c3",
   "metadata": {},
   "outputs": [
    {
     "data": {
      "text/plain": [
       "array([[  2.3307997 , -14.08601002],\n",
       "       [  4.90261856, -10.49881615],\n",
       "       [ -1.74949274,  -5.01112762],\n",
       "       [  2.44788986,  -6.96169899],\n",
       "       [ -0.15962652,  -8.07919446],\n",
       "       [  0.32005488,  -5.67329915],\n",
       "       [  3.30149138, -12.0848505 ],\n",
       "       [  1.42165665,  -7.62443426],\n",
       "       [ -0.05200041,  -6.19268427],\n",
       "       [  0.29408527,  -7.06767963],\n",
       "       [  5.14583611,  -7.40180853],\n",
       "       [  1.3635843 ,  -5.92990795],\n",
       "       [  0.82043233,  -3.64814622],\n",
       "       [  2.88331222,  -9.84238489],\n",
       "       [  2.09438636,  -9.43164643],\n",
       "       [-10.63329294,  -8.94063521],\n",
       "       [ -2.12769076,  -6.23696527],\n",
       "       [  4.39838005,  -8.34010518],\n",
       "       [  3.41771132,  -5.32904937],\n",
       "       [  3.14690528,  -7.48401859],\n",
       "       [  4.57644761,  -7.68865328],\n",
       "       [  1.79771357,  -4.76271461],\n",
       "       [  2.5606395 ,  -4.00586085],\n",
       "       [  4.987045  ,  -8.50829689],\n",
       "       [  5.81216675,  -8.64095664],\n",
       "       [  0.56794159,  -4.92602098],\n",
       "       [ 16.25491683,  -3.16290966],\n",
       "       [  2.95218581, -11.68690836],\n",
       "       [ -0.69513622,   1.56598833],\n",
       "       [ -0.17701283,  -6.20542495],\n",
       "       [  0.92702151,  -7.08432833],\n",
       "       [  1.14376523,  -2.86308788],\n",
       "       [  0.98658219,  -6.01874559]])"
      ]
     },
     "execution_count": 10,
     "metadata": {},
     "output_type": "execute_result"
    }
   ],
   "source": [
    "kernelSVM.support_vectors_"
   ]
  },
  {
   "cell_type": "markdown",
   "id": "95847182",
   "metadata": {},
   "source": [
    "<a name='4.2' ></a>\n",
    "### 4.2 `Sklearn`"
   ]
  },
  {
   "cell_type": "code",
   "execution_count": 11,
   "id": "f9d1fe0f",
   "metadata": {},
   "outputs": [
    {
     "data": {
      "text/plain": [
       "array([[  2.3307997 , -14.08601002],\n",
       "       [  4.90261856, -10.49881615],\n",
       "       [ -1.74949274,  -5.01112762],\n",
       "       [  2.44788986,  -6.96169899],\n",
       "       [ -0.15962652,  -8.07919446],\n",
       "       [  0.32005488,  -5.67329915],\n",
       "       [  3.30149138, -12.0848505 ],\n",
       "       [  1.42165665,  -7.62443426],\n",
       "       [ -0.05200041,  -6.19268427],\n",
       "       [  0.29408527,  -7.06767963],\n",
       "       [  5.14583611,  -7.40180853],\n",
       "       [  1.3635843 ,  -5.92990795],\n",
       "       [  0.82043233,  -3.64814622],\n",
       "       [  2.88331222,  -9.84238489],\n",
       "       [  2.09438636,  -9.43164643],\n",
       "       [-10.63329294,  -8.94063521],\n",
       "       [ -2.12769076,  -6.23696527],\n",
       "       [  4.39838005,  -8.34010518],\n",
       "       [  3.41771132,  -5.32904937],\n",
       "       [  3.14690528,  -7.48401859],\n",
       "       [  4.57644761,  -7.68865328],\n",
       "       [  1.79771357,  -4.76271461],\n",
       "       [  2.5606395 ,  -4.00586085],\n",
       "       [  4.987045  ,  -8.50829689],\n",
       "       [  5.81216675,  -8.64095664],\n",
       "       [  0.56794159,  -4.92602098],\n",
       "       [ 16.25491683,  -3.16290966],\n",
       "       [  2.95218581, -11.68690836],\n",
       "       [ -0.69513622,   1.56598833],\n",
       "       [ -0.17701283,  -6.20542495],\n",
       "       [  0.92702151,  -7.08432833],\n",
       "       [  1.14376523,  -2.86308788],\n",
       "       [  0.98658219,  -6.01874559]])"
      ]
     },
     "execution_count": 11,
     "metadata": {},
     "output_type": "execute_result"
    }
   ],
   "source": [
    "# sklearn model\n",
    "clf = SVC(kernel='rbf')\n",
    "clf.fit(X, y)\n",
    "clf.support_vectors_"
   ]
  },
  {
   "cell_type": "code",
   "execution_count": 12,
   "id": "1b6525d9",
   "metadata": {},
   "outputs": [
    {
     "data": {
      "text/plain": [
       "True"
      ]
     },
     "execution_count": 12,
     "metadata": {},
     "output_type": "execute_result"
    }
   ],
   "source": [
    "# Check\n",
    "(kernelSVM.support_vectors_ == clf.support_vectors_).all()"
   ]
  },
  {
   "cell_type": "markdown",
   "id": "35f70a54",
   "metadata": {},
   "source": [
    "<a name='5' ></a>\n",
    "## 5. Visualization"
   ]
  },
  {
   "cell_type": "code",
   "execution_count": 13,
   "id": "eac9957c",
   "metadata": {},
   "outputs": [],
   "source": [
    "def plot_kernel(X, y, clf, title, h=0.2):\n",
    "    # create a mesh to plot in\n",
    "    x_min, x_max = X[:, 0].min() - 1, X[:, 0].max() + 1\n",
    "    y_min, y_max = X[:, 1].min() - 1, X[:, 1].max() + 1\n",
    "    xx, yy = np.meshgrid(np.arange(x_min, x_max, h),\n",
    "                         np.arange(y_min, y_max, h))\n",
    "    Z = clf.predict(np.c_[xx.ravel(), yy.ravel()])\n",
    "\n",
    "    # Put the result into a color plot\n",
    "    Z = Z.reshape(xx.shape)\n",
    "    plt.contourf(xx, yy, Z, cmap=plt.cm.coolwarm, alpha=0.8)\n",
    "\n",
    "    # Plot also the training points\n",
    "    plt.scatter(X[:, 0], X[:, 1], c=y, cmap=plt.cm.coolwarm)\n",
    "    plt.xlabel('X0')\n",
    "    plt.ylabel('X1')\n",
    "    plt.xlim(xx.min(), xx.max())\n",
    "    plt.ylim(yy.min(), yy.max())\n",
    "    plt.xticks(())\n",
    "    plt.yticks(())\n",
    "    plt.title(title)\n",
    "    plt.show()"
   ]
  },
  {
   "cell_type": "code",
   "execution_count": 14,
   "id": "40fd4a31",
   "metadata": {},
   "outputs": [
    {
     "data": {
      "image/png": "[encoded data removed]",
      "text/plain": [
       "<Figure size 432x288 with 1 Axes>"
      ]
     },
     "metadata": {},
     "output_type": "display_data"
    },
    {
     "data": {
      "image/png": "[encoded data removed]",
      "text/plain": [
       "<Figure size 432x288 with 1 Axes>"
      ]
     },
     "metadata": {},
     "output_type": "display_data"
    }
   ],
   "source": [
    "# Plot\n",
    "model_lst = [kernelSVM, clf]\n",
    "titles = ['Our Model', 'Sklearn Model']\n",
    "for model, title in zip(model_lst, titles):\n",
    "    plot_kernel(X, y, model, title)"
   ]
  },
  {
   "cell_type": "markdown",
   "id": "f8ea66eb",
   "metadata": {},
   "source": [
    "<a name='6' ></a>\n",
    "## 6. References\n",
    "\n",
    "- [https://en.wikipedia.org/wiki/Support_vector_machine](https://en.wikipedia.org/wiki/Support_vector_machine)\n",
    "- [https://machinelearningcoban.com/2017/04/13/softmarginsmv/](https://machinelearningcoban.com/2017/04/13/softmarginsmv/)\n",
    "- [https://machinelearningcoban.com/2017/04/22/kernelsmv/](https://machinelearningcoban.com/2017/04/22/kernelsmv/)\n",
    "- [Mathematics for Machine Learning](https://mml-book.github.io/book/mml-book.pdf)\n",
    "- [Hands-on Machine Learning with Scikit-Learn, Keras, and TensorFlow (Page 177-189)](https://www.knowledgeisle.com/wp-content/uploads/2019/12/2-Aur%C3%A9lien-G%C3%A9ron-Hands-On-Machine-Learning-with-Scikit-Learn-Keras-and-Tensorflow_-Concepts-Tools-and-Techniques-to-Build-Intelligent-Systems-O%E2%80%99Reilly-Media-2019.pdf)\n",
    "- [https://www.python-engineer.com/courses/mlfromscratch/07_svm/](https://www.python-engineer.com/courses/mlfromscratch/07_svm/)\n",
    "- [https://scikit-learn.org/stable/modules/svm.html](https://scikit-learn.org/stable/modules/svm.html)\n",
    "- [https://scikit-learn.org/0.18/auto_examples/svm/plot_iris.html](https://scikit-learn.org/0.18/auto_examples/svm/plot_iris.html)\n",
    "- [https://cvxopt.org/examples/tutorial/qp.html](https://cvxopt.org/examples/tutorial/qp.html)\n",
    "- [https://buildmedia.readthedocs.org/media/pdf/cvxopt/dev/cvxopt.pdf](https://buildmedia.readthedocs.org/media/pdf/cvxopt/dev/cvxopt.pdf)"
   ]
  }
 ],
 "metadata": {
  "kernelspec": {
   "display_name": "Python 3",
   "language": "python",
   "name": "python3"
  },
  "language_info": {
   "codemirror_mode": {
    "name": "ipython",
    "version": 3
   },
   "file_extension": ".py",
   "mimetype": "text/x-python",
   "name": "python",
   "nbconvert_exporter": "python",
   "pygments_lexer": "ipython3",
   "version": "3.8.10"
  },
  "latex_envs": {
   "LaTeX_envs_menu_present": true,
   "autoclose": false,
   "autocomplete": true,
   "bibliofile": "biblio.bib",
   "cite_by": "apalike",
   "current_citInitial": 1,
   "eqLabelWithNumbers": true,
   "eqNumInitial": 1,
   "hotkeys": {
    "equation": "Ctrl-E",
    "itemize": "Ctrl-I"
   },
   "labels_anchors": false,
   "latex_user_defs": false,
   "report_style_numbering": false,
   "user_envs_cfg": false
  }
 },
 "nbformat": 4,
 "nbformat_minor": 5
}
