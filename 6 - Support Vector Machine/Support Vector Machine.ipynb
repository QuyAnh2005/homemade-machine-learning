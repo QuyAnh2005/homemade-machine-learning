{
 "cells": [
  {
   "cell_type": "markdown",
   "id": "0631be6f",
   "metadata": {},
   "source": [
    "# Support Vector Machines - Part 1\n",
    "\n",
    "## Overview\n",
    "- [1. What is SVMs?](#1)\n",
    "- [2. Primal Support Vector Machine](#2)\n",
    "    - [2.1 Distance between Two Parallel Lines](#2.1)\n",
    "    - [2.2 Optimal Hyperplane](#2.2)\n",
    "- [3. Hard Margin](#3)\n",
    "- [4. Soft Margin](#4)\n",
    "- [5. Solve SVMs by Gradient Descent](#5)\n",
    "    - [5.1 Hard Margin by Gradient Descent](#5.1)\n",
    "    - [5.2 Soft Margin by Gradient Descent](#5.2)\n",
    "- [6. References](#8)"
   ]
  },
  {
   "cell_type": "markdown",
   "id": "776375ed",
   "metadata": {},
   "source": [
    "<a name='1' ></a>\n",
    "## 1. What is SVMs?\n",
    "A *Support Vector Machine (SVM)* is a very powerful and versatile Machine Learning model, capable of performing linear or nonlinear classification, regression, and even outlier detection. It is one of the most popular models in Machine Learning, and anyone interested in Machine Learning should have it in their toolbox. SVMs are particularly well suited for classification of complex but small- or medium-sized datasets.\n",
    "\n",
    "SVMs can be also used for multinomial classification, but we almost focus on binary classification.\n",
    "\n",
    "<a name='2' ></a>\n",
    "## 2. Primal Support Vector Machine\n",
    "\n",
    "Assume we have a dataset that is linearly seperable with each pair of point, $(x^{(1)}, y_1), (x^{(2)}, y_2), (x^{(3)}, y_3), ..., (x^{(n)}, y_n)$, where $n$ is the number of observations, $x^{(i)} = (x_1, x_2, ..., x_d)$ and $d$ is the number of features of $i-th$ observation. \n",
    "\n",
    "We have infinitely many candidate hyperplanes (below images), and therefore classifiers,\n",
    "that solve our classification problem without any (training) errors. To find\n",
    "a unique solution, one idea is to choose the separating hyperplane that\n",
    "maximizes the margin between the positive and negative examples. In\n",
    "other words, we want the positive and negative examples to be separated\n",
    "by a **large margin**.\n",
    "\n",
    "<div style=\"width:image width px; font-size:80%; text-align:center;\"><img src='images/margin.png' alt=\"alternate text\" width=\"width\" height=\"height\" style=\"width:600px;height:300px;\" />  </div>\n",
    "\n",
    "*The concept of the margin is intuitively simple: It is the distance of the\n",
    "separating hyperplane to the closest examples in the dataset, assuming\n",
    "that the dataset is linearly separable.*\n",
    "\n",
    "<a name='2.1' ></a>\n",
    "### 2.1 Distance between Two Parallel Lines\n",
    "When the lines are given by\n",
    "\n",
    "$$\n",
    "(l_1): w_{01} + w_1 x_1 + ... + w_n x_n = 0 \\\\\n",
    "(l_2): w_{02} + w_1 x_1 + ... + w_n x_n = 0\n",
    "$$\n",
    "\n",
    "It's easy to see that $l_1$ and $l_2$ is two parellel lines. From [formular](https://en.wikipedia.org/wiki/Distance_between_two_parallel_lines), the distance of two parellel lines is:\n",
    "\n",
    "$$d(l_1, l_2) = \\frac{|w_{01} - w_{02}|}{\\sqrt{w_1^2 + w_2^2 + ... + w_n^2}} = \\frac{|w_{01} - w_{02}|}{\\Vert w \\Vert_2}$$\n",
    "\n",
    "We mention the above because they are closely related when it comes to maximize margin. If we maximize the margin, it also means that we maximize the distance between two parallel lines passing through the points on the margin.\n",
    "\n",
    "<a name='2.2' ></a>\n",
    "### 2.2 Optimal Hyperplane\n",
    "\n",
    "As mentioned, we need to find the optimal hyperplane with largest margin. Let example $\\mathbf{x} \\in \\mathbb{R}^d$ be an\n",
    "element of the data space. Consider a function\n",
    "\n",
    "$$\n",
    "f: \\mathbb{R}^d \\rightarrow \\mathbb{R} \\\\\n",
    "\\mathbf{x} \\mapsto f(\\mathbf{x}) := \\mathbf{w^T x} + b = \\langle \\mathbf{w, x} \\rangle + b\n",
    "$$\n",
    "\n",
    "parametrized by $\\mathbf{w} \\in \\mathbb{R}^d$ and $b \\in \\mathbb{R}$. Recall that hyperplanes are affine subspaces. Therefore, we define the hyperplane that separates the two classes in our binary classification problem as\n",
    "\n",
    "$$\\{ \\mathbf{x} \\in \\mathbb{R}^d: f(\\mathbf{x}) = 0 \\}$$\n",
    "\n",
    "When training the classifier, we want to ensure that the examples with\n",
    "positive labels are on the positive side of the hyperplane, i.e.,\n",
    "\n",
    "$$\\mathbf{w^T x} + b  \\geq 0 \\text{ when $y = +1$} $$\n",
    "\n",
    "and the examples with negative labels are on the negative side, i.e.,\n",
    "\n",
    "$$\\mathbf{w^T x} + b  < 0 \\text{ when $y = -1$}$$"
   ]
  },
  {
   "cell_type": "markdown",
   "id": "265787e2",
   "metadata": {},
   "source": [
    "<a name='3' ></a>\n",
    "## 3. Hard Margin\n",
    "Another approach that does not change the properties of the optimal hyperplane is\n",
    "\n",
    "$$\\mathbf{w^T x} + b  = 1 \\text{ (anything on or above this boundary is of one class, with label $1$)} $$\n",
    "$$\\mathbf{w^T x} + b  = -1 \\text{ (anything on or above this boundary is of one class, with label $-1$)} $$\n",
    "\n",
    "<div style=\"width:image width px; font-size:80%; text-align:center;\"><img src='images/hard-margin.ppm' alt=\"alternate text\" width=\"width\" height=\"height\" style=\"width:300px;height:300px;\" />  </div>\n",
    "\n",
    "We want the positive and negative examples to be at least 1 away from the hyperplane, which yields the condition\n",
    "\n",
    "$$y_i (\\mathbf{w^T x^{(i)}} + b) \\geq 1$$\n",
    "\n",
    "Combining the margin maximization with the fact that examples need to be on the correct side of the hyperplane (based on their labels) gives us\n",
    "\n",
    "$$\\max_{w, b} \\frac{1}{\\mathbf{\\Vert w \\Vert}}$$\n",
    "\n",
    "subject to $y_i (\\mathbf{w^T x^{(i)}} + b) \\geq 1$ for all $i=1, 2, ..., n$. Instead of maximizing the reciprocal of the norm as the above, we often minimize the squared norm. We also often include a constant $\\frac12$ that does\n",
    "not affect the optimal $\\mathbf{w}, b$ but yields a tidier form when we compute the gradient. Then, our objective becomes\n",
    "\n",
    "$$\\min_{w, b} \\frac{1}{2} \\Vert \\mathbf{w} \\Vert^2$$\n",
    "\n",
    "subject to $y_i (\\mathbf{w^T x^{(i)}} + b) \\geq 1$ for all $i=1, 2, ..., n$\n",
    "\n",
    "This equation is known as the *hard margin SVM*. The reason for the expression “hard” is because the formulation does not allow for any violations of the margin condition."
   ]
  },
  {
   "cell_type": "markdown",
   "id": "3260c6be",
   "metadata": {},
   "source": [
    "<a name='4' ></a>\n",
    "## 4. Soft Margin \n",
    "\n",
    "In the case where data is not linearly separable, we may wish to allow\n",
    "some examples to fall within the margin region, or even to be on the\n",
    "wrong side of the hyperplane as illustrated in the below.\n",
    "\n",
    "<div style=\"width:image width px; font-size:80%; text-align:center;\"><img src='images/soft-margin.png' alt=\"alternate text\" width=\"width\" height=\"height\" style=\"width:600px;height:300px;\" />  </div>\n",
    "\n",
    "The model that allows for some classification errors is called the *soft margin SVM*.\n",
    "\n",
    "<div style=\"width:image width px; font-size:80%; text-align:center;\"><img src='images/error-soft-margin.png' alt=\"alternate text\" width=\"width\" height=\"height\" style=\"width:500px;height:300px;\" />  </div>\n",
    "\n",
    "The key geometric idea is to introduce a slack variable $\\xi_i$ corresponding\n",
    "to each example–label pair $(x^{(i)} , y_i)$ that allows a particular example to be\n",
    "within the margin or even on the wrong side of the hyperplane.\n",
    "The *slack variable $\\xi$* measures the distance of a positive example $x_+$ to the positive\n",
    "margin hyperplane $h_\\mathbf{w^Tx} + b = 1$ when $x_+$ is on the wrong side. The new objective function\n",
    "\n",
    "$$\\min_{\\mathbf{w}, b, \\mathbf{\\xi}} \\frac{1}{2} \\Vert \\mathbf{w} \\Vert^2 + C\\sum_{i=1}^n \\xi_i$$\n",
    "\n",
    "subject to \n",
    "- $y_i (\\mathbf{w^T x^{(i)}} + b) \\geq 1 - \\xi_i$\n",
    "- $\\xi_i \\geq 0$\n",
    "\n",
    "for all $i=1, 2, ..., n$\n",
    "\n",
    "### Hinge Loss Function \n",
    "\n",
    "<div style=\"width:image width px; font-size:80%; text-align:center;\"><img src='images/hinge-loss.png' alt=\"alternate text\" width=\"width\" height=\"height\" style=\"width:500px;height:300px;\" /> The hinge loss is a convex upper bound of zero-one loss. </div>\n",
    "\n",
    "In SVMs, we use **hinge-loss** to represent error $\\xi$\n",
    "\n",
    "$$l(t) = \\max\\{ 0, 1-t \\}$$ \n",
    "\n",
    "where $t = yf(\\mathbf{x}) = y(\\mathbf{w^T x} + b)$. We can equivalently replace minimization of the hinge loss over t with a minimization of a slack variable ξ with two constraints. In equation form,\n",
    "\n",
    "$$\\min_t max\\{ 0, 1-t \\}$$\n",
    "\n",
    "is equivalent to \n",
    "\n",
    "$$\\min_{\\xi, t} \\xi$$\n",
    "\n",
    "subject to $\\xi \\geq 0$, $\\xi \\geq 1 - t$. Therefore, the objective function can be written\n",
    "\n",
    "$$\\min_{\\mathbf{w}, b} \\frac{1}{2} \\Vert \\mathbf{w} \\Vert^2 + C\\sum_{i=1}^n \\max\\{ 0, 1 - y_i(\\mathbf{w^T x^{(i)}} + b) \\}$$\n",
    "\n",
    "or\n",
    "\n",
    "$$\\min_{\\mathbf{w}, b} \\underbrace{\\frac{1}{2} \\lambda \\Vert \\mathbf{w} \\Vert^2}_\\text{regularizer} + \\underbrace{\\sum_{i=1}^n \\max\\{ 0, 1 - y_i(\\mathbf{w^T x^{(i)}} + b) \\}}_\\text{error term} $$\n",
    "\n",
    "where $\\lambda = \\frac{1}{C}$"
   ]
  },
  {
   "cell_type": "code",
   "execution_count": 57,
   "id": "038f3d52",
   "metadata": {},
   "outputs": [],
   "source": [
    "def loss(w, b, X, y, lamda):\n",
    "    \"\"\"\n",
    "    Calculate value of loss function.\n",
    "    \n",
    "    Args:\n",
    "        w: weight\n",
    "        b: bias\n",
    "        X: training example\n",
    "        y: labels\n",
    "        lamda: parameter for regularizer\n",
    "    Return:\n",
    "        l: the value of loss\n",
    "    \"\"\"\n",
    "    hinge = 1 - np.dot(X @ w.T + b, y)\n",
    "    l = 1/2 * lamda * np.dot(w.T, w) + np.sum(np.maximum(0, hinge))\n",
    "    return l"
   ]
  },
  {
   "cell_type": "markdown",
   "id": "4b1bad29",
   "metadata": {},
   "source": [
    "<a name='5' ></a>\n",
    "## 5. Solve SVMs by Gradient Descent\n",
    "Using the hinge loss gives us the unconstrained optimization problem, so we can use *Gradient Descent* to approximate the optimal value. \n",
    "\n",
    "*Gradient Descent Formula*\n",
    "$$\\mathbf{w}^{(i+1)} = \\mathbf{w}^{(i)} - \\alpha \\nabla J(\\mathbf{w}^{(i)})$$\n",
    "\n",
    "where\n",
    "- $\\mathbf{w}^{(i)}$ is weight at $i^{th}$ iteration\n",
    "- $\\alpha$ is *learning rate*\n",
    "- $\\nabla J(\\mathbf{w}^{(i)})$ is gradient of $J$ at $\\mathbf{w}^{(i)}$\n",
    "and \n",
    "$$J(\\mathbf{w}) = \\frac{1}{2} \\lambda \\Vert \\mathbf{w} \\Vert^2 + \\sum_{i=1}^n \\max\\{ 0, 1 - y_i(\\mathbf{w^T x^{(i)}} + b) \\}$$"
   ]
  },
  {
   "cell_type": "markdown",
   "id": "2c0d1d07",
   "metadata": {},
   "source": [
    "**Case 1:** $y_i(\\mathbf{w^T x^{(i)}} + b) < 1$ \n",
    "\n",
    "$$\\Rightarrow 1 - y_i(\\mathbf{w^T x^{(i)}} + b) > 0 \\\\\n",
    "\\Rightarrow J(\\mathbf{w}) = \\frac{1}{2} \\lambda \\Vert \\mathbf{w} \\Vert^2 + \\sum_{i} \\left(1 - y_i(\\mathbf{w^T x^{(i)}} + b) \\right) \\\\\n",
    "$$\n",
    "\n",
    "- $\\nabla \\frac{\\partial J}{\\partial \\mathbf{w}} = \\lambda \\mathbf{w} - \\sum_{i} y_i\\mathbf{x^{(i)}}$ \n",
    "- $\\nabla \\frac{\\partial J}{\\partial b} = \\sum_{i} y_i$ \n",
    "\n",
    "where \n",
    "$\\mathbf{X} = \\begin{bmatrix} \\mathbf{x^{(1)}} \\\\ \\mathbf{x^{(2)}} \\\\ \\vdots\\\\ \\mathbf{x^{(n)}} \\end{bmatrix}$,\n",
    "$\\mathbf{y} = \\begin{bmatrix} y_1 \\\\ y_2 \\\\ \\vdots\\\\ y_n \\end{bmatrix}$\n",
    "and $\\mathbf{x^{(i)}}$ is a vector $(1, d)$,\n",
    "\n",
    "\n",
    "**Case 2:** $y_i(\\mathbf{w^T x^{(i)}} + b) \\geq 1$ \n",
    "\n",
    "$$\\Rightarrow 1 - y_i(\\mathbf{w^T x^{(i)}} + b) \\leq 0 \\\\\n",
    "\\Rightarrow J(\\mathbf{w}) = \\frac{1}{2} \\lambda \\Vert \\mathbf{w} \\Vert^2 \\\\\n",
    "$$\n",
    "\n",
    "- $\\nabla \\frac{\\partial J}{\\partial \\mathbf{w}} = \\lambda \\mathbf{w}$"
   ]
  },
  {
   "cell_type": "code",
   "execution_count": 43,
   "id": "f66c61b3",
   "metadata": {},
   "outputs": [],
   "source": [
    "# Package\n",
    "import numpy as np\n",
    "import matplotlib.pyplot as plt\n",
    "\n",
    "from sklearn import datasets\n",
    "from utils import visualize_svm"
   ]
  },
  {
   "cell_type": "code",
   "execution_count": 58,
   "id": "b6fa64c9",
   "metadata": {},
   "outputs": [],
   "source": [
    "class SVM:\n",
    "    def __init__(self, learning_rate=0.001, lamda=0.001, n_iters=300):\n",
    "        self.lr = learning_rate\n",
    "        self.lamda = lamda\n",
    "        self.n_iters = n_iters\n",
    "        self.w = None\n",
    "        self.b = None\n",
    "\n",
    "    def fit(self, X, y, verbose=0):\n",
    "        n_samples, n_features = X.shape\n",
    "        y_ = np.where(y <= 0, -1, 1)\n",
    "\n",
    "        self.w = np.zeros(n_features)\n",
    "        self.b = 0\n",
    "\n",
    "        for i in range(self.n_iters):\n",
    "            for idx, x_i in enumerate(X):\n",
    "                condition = y_[idx] * (np.dot(x_i, self.w) + self.b) >= 1\n",
    "                if condition:\n",
    "                    self.w -= self.lr * (self.lamda * self.w)\n",
    "                else:\n",
    "                    self.w -= self.lr * (self.lamda * self.w - np.dot(x_i, y_[idx]))\n",
    "                    self.b -= self.lr * y_[idx]\n",
    "                    \n",
    "            if verbose and i % 50 == 0:\n",
    "                l = loss(self.w, self.b, X, y, self.lamda)\n",
    "                print(f'Loss at iteration {i}: {l}')\n",
    "\n",
    "    def predict(self, X):\n",
    "        approx = np.dot(X, self.w) + self.b\n",
    "        return np.sign(approx)"
   ]
  },
  {
   "cell_type": "markdown",
   "id": "2859d804",
   "metadata": {},
   "source": [
    "<a name='5.1' ></a>\n",
    "### 5.1 Hard Margin by Gradient Descent"
   ]
  },
  {
   "cell_type": "code",
   "execution_count": 59,
   "id": "573e98a6",
   "metadata": {},
   "outputs": [
    {
     "name": "stdout",
     "output_type": "stream",
     "text": [
      "Loss at iteration 0: 3.320620155219481e-05\n",
      "Loss at iteration 50: 0.00012613298437035817\n",
      "Loss at iteration 100: 0.00012487793958176996\n",
      "Loss at iteration 150: 0.00012363538270369282\n",
      "Loss at iteration 200: 0.0001274891832005812\n",
      "Loss at iteration 250: 0.00012622064400144868\n",
      "[0.48082209 0.15117092] -0.03000000000000002\n"
     ]
    },
    {
     "data": {
      "image/png": "[encoded data removed]",
      "text/plain": [
       "<Figure size 432x288 with 1 Axes>"
      ]
     },
     "metadata": {
      "needs_background": "light"
     },
     "output_type": "display_data"
    }
   ],
   "source": [
    "X, y = datasets.make_blobs(n_samples=100, n_features=2, centers=2, cluster_std=1.05, random_state=40)\n",
    "y = np.where(y == 0, -1, 1)\n",
    "\n",
    "clf = SVM()\n",
    "clf.fit(X, y, verbose=1)\n",
    "\n",
    "print(clf.w, clf.b)\n",
    "visualize_svm(X, y, clf)"
   ]
  },
  {
   "cell_type": "markdown",
   "id": "7418e919",
   "metadata": {},
   "source": [
    "<a name='5.2' ></a>\n",
    "### 5.2 Soft Margin by Gradient Descent"
   ]
  },
  {
   "cell_type": "code",
   "execution_count": 42,
   "id": "f9bb123d",
   "metadata": {},
   "outputs": [
    {
     "name": "stdout",
     "output_type": "stream",
     "text": [
      "Loss at iteration 0: 2.9873191362208774e-05\n",
      "Loss at iteration 50: 0.00036738620058293056\n",
      "Loss at iteration 100: 0.000505374126975878\n",
      "Loss at iteration 150: 0.0005803647647793129\n",
      "Loss at iteration 200: 0.0006601508949804827\n",
      "Loss at iteration 250: 0.0007446571435896224\n",
      "[1.25029846 0.31818442] -0.45600000000000035\n"
     ]
    },
    {
     "data": {
      "image/png": "[encoded data removed]",
      "text/plain": [
       "<Figure size 432x288 with 1 Axes>"
      ]
     },
     "metadata": {
      "needs_background": "light"
     },
     "output_type": "display_data"
    }
   ],
   "source": [
    "X, y = datasets.make_blobs(n_samples=100, n_features=2, centers=2, cluster_std=2.05, random_state=40)\n",
    "y = np.where(y == 0, -1, 1)\n",
    "\n",
    "clf = SVM()\n",
    "clf.fit(X, y, verbose=1)\n",
    "\n",
    "print(clf.w, clf.b)\n",
    "visualize_svm(X, y, clf)"
   ]
  },
  {
   "cell_type": "markdown",
   "id": "9077331f",
   "metadata": {},
   "source": [
    "So, in this section, we solved SVMs using gradient descent; in the following notebook, we will solve SVMs using the dual problem by Lagrange method.\n",
    "\n",
    "<a name='6' ></a>\n",
    "## 6. Reference\n",
    "\n",
    "- [https://en.wikipedia.org/wiki/Support_vector_machine](https://en.wikipedia.org/wiki/Support_vector_machine)\n",
    "- [https://machinelearningcoban.com/2017/04/09/smv/](https://machinelearningcoban.com/2017/04/09/smv/)\n",
    "- [https://machinelearningcoban.com/2017/04/13/softmarginsmv/](https://machinelearningcoban.com/2017/04/13/softmarginsmv/)\n",
    "- [Mathematics for Machine Learning](https://mml-book.github.io/book/mml-book.pdf)\n",
    "- [Hands-on Machine Learning with Scikit-Learn, Keras, and TensorFlow (Page 177-189)](https://www.knowledgeisle.com/wp-content/uploads/2019/12/2-Aur%C3%A9lien-G%C3%A9ron-Hands-On-Machine-Learning-with-Scikit-Learn-Keras-and-Tensorflow_-Concepts-Tools-and-Techniques-to-Build-Intelligent-Systems-O%E2%80%99Reilly-Media-2019.pdf)\n",
    "- [https://www.python-engineer.com/courses/mlfromscratch/07_svm/](https://www.python-engineer.com/courses/mlfromscratch/07_svm/)\n",
    "- [https://scikit-learn.org/stable/modules/svm.html](https://scikit-learn.org/stable/modules/svm.html)"
   ]
  }
 ],
 "metadata": {
  "kernelspec": {
   "display_name": "Python 3",
   "language": "python",
   "name": "python3"
  },
  "language_info": {
   "codemirror_mode": {
    "name": "ipython",
    "version": 3
   },
   "file_extension": ".py",
   "mimetype": "text/x-python",
   "name": "python",
   "nbconvert_exporter": "python",
   "pygments_lexer": "ipython3",
   "version": "3.8.10"
  },
  "latex_envs": {
   "LaTeX_envs_menu_present": true,
   "autoclose": false,
   "autocomplete": true,
   "bibliofile": "biblio.bib",
   "cite_by": "apalike",
   "current_citInitial": 1,
   "eqLabelWithNumbers": true,
   "eqNumInitial": 1,
   "hotkeys": {
    "equation": "Ctrl-E",
    "itemize": "Ctrl-I"
   },
   "labels_anchors": false,
   "latex_user_defs": false,
   "report_style_numbering": false,
   "user_envs_cfg": false
  }
 },
 "nbformat": 4,
 "nbformat_minor": 5
}
