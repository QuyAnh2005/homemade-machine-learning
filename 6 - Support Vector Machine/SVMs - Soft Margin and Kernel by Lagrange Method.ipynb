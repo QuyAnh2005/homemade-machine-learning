{
 "cells": [
  {
   "cell_type": "markdown",
   "id": "ae443f6d",
   "metadata": {},
   "source": [
    "# Support Vector Machines - Part 2\n",
    "\n",
    "## Overview\n",
    "- [1. What is SVMs?](#1)\n",
    "- [2. Primal Support Vector Machine](#2)\n",
    "    - [2.1 Distance between Two Parallel Lines](#2.1)\n",
    "    - [2.2 Optimal Hyperplane](#2.2)\n",
    "- [3. Hard Margin](#3)\n",
    "- [4. Soft Margin](#4)\n",
    "- [5. Solve SVMs by Gradient Descent](#5)\n",
    "    - [5.1 Hard Margin by Gradient Descent](#5.1)\n",
    "    - [5.2 Soft Margin by Gradient Descent](#5.2)\n",
    "- [6. References](#8)"
   ]
  },
  {
   "cell_type": "code",
   "execution_count": null,
   "id": "2e005c7e",
   "metadata": {},
   "outputs": [],
   "source": []
  }
 ],
 "metadata": {
  "kernelspec": {
   "display_name": "Python 3",
   "language": "python",
   "name": "python3"
  },
  "language_info": {
   "codemirror_mode": {
    "name": "ipython",
    "version": 3
   },
   "file_extension": ".py",
   "mimetype": "text/x-python",
   "name": "python",
   "nbconvert_exporter": "python",
   "pygments_lexer": "ipython3",
   "version": "3.8.10"
  },
  "latex_envs": {
   "LaTeX_envs_menu_present": true,
   "autoclose": false,
   "autocomplete": true,
   "bibliofile": "biblio.bib",
   "cite_by": "apalike",
   "current_citInitial": 1,
   "eqLabelWithNumbers": true,
   "eqNumInitial": 1,
   "hotkeys": {
    "equation": "Ctrl-E",
    "itemize": "Ctrl-I"
   },
   "labels_anchors": false,
   "latex_user_defs": false,
   "report_style_numbering": false,
   "user_envs_cfg": false
  }
 },
 "nbformat": 4,
 "nbformat_minor": 5
}
