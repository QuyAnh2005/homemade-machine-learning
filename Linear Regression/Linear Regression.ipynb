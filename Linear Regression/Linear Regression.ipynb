{
 "cells": [
  {
   "cell_type": "markdown",
   "id": "3d5227e0",
   "metadata": {},
   "source": [
    "# Overview\n",
    "\n",
    "- [I. Linear Regression](#1)\n",
    "    - [1.1 Model](#1.1)\n",
    "    - [1.2 Least Square Method](#1.2)\n",
    "    - [1.3 Test Your Model3](#1.3)\n",
    "- [Gradient with Linear Regression](#2)\n",
    "    - [2.1 Gradient Formula](#2.1)\n",
    "    - [2.2 Implement](#2.2)\n",
    "    - [2.3 Apply Model](#2.3)\n",
    "- [You Should Know?](#3)"
   ]
  },
  {
   "cell_type": "code",
   "execution_count": 1,
   "id": "e0ddcba6",
   "metadata": {},
   "outputs": [],
   "source": [
    "import numpy as np\n",
    "import pandas as pd\n",
    "import warnings\n",
    "\n",
    "from matplotlib import pyplot as plt\n",
    "\n",
    "warnings.filterwarnings('ignore')\n",
    "np.random.seed(365)"
   ]
  },
  {
   "cell_type": "markdown",
   "id": "c1fb3697",
   "metadata": {},
   "source": [
    "<a name='1' ></a>\n",
    "# I. Linear Regression\n",
    "<a name='1.1' ></a>\n",
    "## 1.1 Model"
   ]
  },
  {
   "cell_type": "markdown",
   "id": "419f1193",
   "metadata": {},
   "source": [
    "In Linear Regression model prediction, we want to find a linear function to approximate for exact value\n",
    "\n",
    "$$\n",
    "\\hat{y} = \\theta_0 + \\theta_1 x_1 + \\theta_2 x_2 + ... + \\theta_n x_n \\approx y\n",
    "$$\n",
    "\n",
    "- $\\hat{y}$ is the predicted value \n",
    "- $y$ is the exact value\n",
    "- $n$ is the number of features\n",
    "- $x_i$ is the $i^{th}$ feature value \n",
    "- $\\theta_j$ is the $j^{th}$ model parameter (including the bias term $\\theta_0$ and the feature weights $\\theta_1$ , $\\theta_2$,..., $\\theta_n$).\n",
    "\n",
    "If we consider $\\theta$ and $x$ as vector, we have a new fomular for $(1)$:\n",
    "\n",
    "$$\\hat{y} = h_{\\theta}(x) = \\theta^T x $$\n",
    "\n",
    "- $\\theta = \\begin{bmatrix} \\theta_0\\\\ \\theta_1\\\\ \\vdots\\\\ \\theta_n \\end{bmatrix}$ is the model’s parameter vector\n",
    "\n",
    "- $x = \\begin{bmatrix} x_0\\\\ x_1\\\\ \\vdots\\\\ x_n \\end{bmatrix}$ is the feature vector, with $x_0 = 1$\n",
    "\n",
    "- $h_{\\theta}$ is the hypothesis function, using the model parameters $\\theta$.\n",
    "\n",
    "\n",
    "*An example about linear regression, $y = \\theta_0 + \\theta_1 x_1$*\n",
    "<img title=\"Linear Regression in 2-dimensions\" width=\"500\" alt=\"Linear Regression in 2-dimensions\" src=\"images/linear_regression.png\">\n",
    "<center> Image 1. $y = \\theta_0 + \\theta_1 x_1$ </center>\n"
   ]
  },
  {
   "cell_type": "markdown",
   "id": "e9748462",
   "metadata": {},
   "source": [
    "That’s the Linear Regression model, so now how do we train it? Well, recall that training a model means setting its parameters so that the model best fits the training set. For this purpose, we first need a measure of how well (or poorly) the model fits the training data. We saw that the most common performance measure of a regression model is the Root Mean Square Error (RMSE). Therefore, to train a Linear Regression model, you need to find the value of θ that minimizes the RMSE. In practice, it is simpler to minimize the Mean Square Error (MSE) Linear Regression than the RMSE, and it leads to the same result (because the value that minimizes a function also minimizes its square root).\n",
    "\n",
    "The $MSE$ of a Linear Regression hypothesis $h_{\\theta}$ on a training set $X$ is calculated using\n",
    "\n",
    "$$MSE(X, h_{\\theta}) = \\frac{1}{m} \\sum_{i=1}^{m} (\\hat{y}^{(i)} - y^{(i)})^2 = \\frac{1}{m} \\sum_{i=1}^{m} (\\theta^T x^{(i)} - y^{(i)})^2$$\n",
    "\n",
    "- $m$ is the number of training examples in dataset\n",
    "- $x^{(i)}$ is i-th traing example in dataset\n",
    "- $y^{(i)}$ is actual value corresponding to $x^{(i)}$\n",
    "- $\\hat{y}^{(i)}$ is predicted value corresponding to $x^{(i)}$\n",
    "\n",
    "\n",
    "<img title=\"MSE\" width=\"500\" alt=\"MSE\" src=\"images/mse_regression.png\">\n",
    "<center>Image 2. $MSE$ </center>"
   ]
  },
  {
   "cell_type": "markdown",
   "id": "740d4ced",
   "metadata": {},
   "source": [
    "<a name='1.2' ></a>\n",
    "## 1.2 Least Square Method\n",
    "\n",
    "Another formula of $MSE$ in matrix and vector form is\n",
    "\n",
    "$$J(\\theta) = MSE(\\theta) = \\frac{1}{m} (X\\theta - y)^2 = \\frac{1}{m} (X\\theta - y)^T(X\\theta - y)$$\n",
    "\n",
    "We want to minimize loss function $J(\\theta)$ and there is a easy way that deriatives it\n",
    "\n",
    "$$\\nabla J(\\theta) = X^TX\\theta - X^Ty$$\n",
    "\n",
    "\n",
    "**Normal Equation**\n",
    "\n",
    "$$\\nabla J(\\theta) = 0 \\\\ \\Leftrightarrow \\theta = (X^TX)^{-1}X^Ty$$\n",
    "\n",
    "**QR Decomposition** \n",
    "\n",
    "Any real square matrix $X$ may be decomposed as\n",
    "\n",
    "$$X = QR$$\n",
    "\n",
    "- $Q$ is an orthogonal matrix ($Q^T=Q^{-1}$)\n",
    "- $R$ is an upper triangular matrix \n",
    "\n",
    "\\begin{align}\n",
    "&\\Rightarrow X \\theta &= y \\\\\n",
    "&\\Leftrightarrow QR \\theta &= y \\\\\n",
    "&\\Leftrightarrow Q^TQR \\theta &= Q^Ty \\\\\n",
    "&\\Leftrightarrow R \\theta &= Q^Ty \\\\\n",
    "%&\\Leftrightarrow \\theta &= R^{-1}Q^Ty \\\\\n",
    "\\end{align}\n",
    "\n",
    "\n",
    "Beside, $\\theta$ is also found from another [least square methods](https://en.wikipedia.org/wiki/Least_squares) that is [SVD](https://relate.cs.illinois.edu/course/cs357-f17/f/lectures/upload/sec-svd.pdf)"
   ]
  },
  {
   "cell_type": "code",
   "execution_count": 2,
   "id": "5878c5cb",
   "metadata": {},
   "outputs": [],
   "source": [
    "def least_square(X, y, method=\"qr\"):\n",
    "    \"\"\"\n",
    "    Arguments:\n",
    "        X: given matrixvfrom dataset\n",
    "        y: vector actual value\n",
    "        method: 'qr' to solve to QR, else to sovle normal equation\n",
    "    Return:\n",
    "        theta: vector theta\n",
    "    \"\"\"\n",
    "    if method == 'qr':\n",
    "        q, r = np.linalg.qr(X) # Function in package\n",
    "        y_hat = np.dot(q.T, y)\n",
    "        theta = np.linalg.solve(r, y_hat)\n",
    "    else:\n",
    "        y_hat = np.dot(X.T, y)\n",
    "        X_hat = np.dot(X.T, X)\n",
    "        theta = np.linalg.solve(X_hat, y_hat)\n",
    "        \n",
    "    return theta"
   ]
  },
  {
   "cell_type": "markdown",
   "id": "dc74f87a",
   "metadata": {},
   "source": [
    "<a name='1.3' ></a>\n",
    "## 1.3 Test your model"
   ]
  },
  {
   "cell_type": "code",
   "execution_count": 3,
   "id": "27816b47",
   "metadata": {},
   "outputs": [
    {
     "name": "stdout",
     "output_type": "stream",
     "text": [
      "X has 100 training examples and 2 features\n",
      "y has 100 elements corresponding to 100 training examples of X\n"
     ]
    }
   ],
   "source": [
    "# Generate X, y\n",
    "m = 100\n",
    "X = 2 * np.random.rand(m, 1)\n",
    "y = 4 + 3 * X + np.random.randn(m, 1)\n",
    "\n",
    "X_train = np.c_[np.ones((m, 1)), X]     # add x0 = 1 to each instance\n",
    "\n",
    "# Print information of data\n",
    "nrow, nfeature = X_train.shape[0], X_train.shape[1]\n",
    "print(f'X has {nrow} training examples and {nfeature} features')\n",
    "print(f'y has {len(y)} elements corresponding to {nrow} training examples of X')"
   ]
  },
  {
   "cell_type": "code",
   "execution_count": 4,
   "id": "1eb1168e",
   "metadata": {},
   "outputs": [
    {
     "data": {
      "text/plain": [
       "Text(0.5, 1.0, 'Visualize actual value')"
      ]
     },
     "execution_count": 4,
     "metadata": {},
     "output_type": "execute_result"
    },
    {
     "data": {
      "image/png": "[encoded data removed]",
      "text/plain": [
       "<Figure size 432x288 with 1 Axes>"
      ]
     },
     "metadata": {
      "needs_background": "light"
     },
     "output_type": "display_data"
    }
   ],
   "source": [
    "# Visualization \n",
    "\n",
    "plt.scatter(X, y)\n",
    "plt.xlabel('X')\n",
    "plt.ylabel('y')\n",
    "plt.title('Visualize actual value')"
   ]
  },
  {
   "cell_type": "markdown",
   "id": "66b68089",
   "metadata": {},
   "source": [
    "### Help Function for Visualization"
   ]
  },
  {
   "cell_type": "code",
   "execution_count": 5,
   "id": "751f9c6c",
   "metadata": {},
   "outputs": [],
   "source": [
    "# Visualization \n",
    "def visualize(X, y, pred, title=''):\n",
    "    '''\n",
    "        Args:\n",
    "            X: value \n",
    "            y: actual value \n",
    "            pred: predicted value \n",
    "    '''\n",
    "    plt.scatter(X, y, label='Actual Value')\n",
    "    plt.plot(X, pred, color='r', label='Predicted Value')\n",
    "    plt.xlabel('X', size=12)\n",
    "    plt.ylabel('y', size=12)\n",
    "    plt.title(title, size=15)\n",
    "    plt.legend()\n",
    "    plt.grid()"
   ]
  },
  {
   "cell_type": "markdown",
   "id": "a594028b",
   "metadata": {},
   "source": [
    "### Your Model"
   ]
  },
  {
   "cell_type": "code",
   "execution_count": 6,
   "id": "aeb7a3d7",
   "metadata": {},
   "outputs": [
    {
     "name": "stdout",
     "output_type": "stream",
     "text": [
      "Theta vector: [4.03120421 3.00023319]\n"
     ]
    },
    {
     "data": {
      "image/png": "[encoded data removed]",
      "text/plain": [
       "<Figure size 432x288 with 1 Axes>"
      ]
     },
     "metadata": {
      "needs_background": "light"
     },
     "output_type": "display_data"
    }
   ],
   "source": [
    "# Use your model that you build\n",
    "theta = np.squeeze(least_square(X_train, y))\n",
    "print(f'Theta vector: {theta}')\n",
    " \n",
    "# y_hat = theta_0 + theta_1 * X\n",
    "pred = theta[0] + theta[1] * X\n",
    "visualize(X, y, pred, 'Your model')"
   ]
  },
  {
   "cell_type": "markdown",
   "id": "0a22543d",
   "metadata": {},
   "source": [
    "### Sklearn Model"
   ]
  },
  {
   "cell_type": "code",
   "execution_count": 7,
   "id": "9a093fbb",
   "metadata": {},
   "outputs": [
    {
     "name": "stdout",
     "output_type": "stream",
     "text": [
      "Theta vector: [4.03120421 3.00023319]\n"
     ]
    },
    {
     "data": {
      "image/png": "[encoded data removed]",
      "text/plain": [
       "<Figure size 432x288 with 1 Axes>"
      ]
     },
     "metadata": {
      "needs_background": "light"
     },
     "output_type": "display_data"
    }
   ],
   "source": [
    "# Use model from sklearn libary\n",
    "from sklearn.linear_model import LinearRegression\n",
    "\n",
    "model = LinearRegression(fit_intercept=False)\n",
    "model.fit(X_train, y)\n",
    "\n",
    "theta = np.squeeze(model.coef_)\n",
    "print(f'Theta vector: {theta}')\n",
    " \n",
    "# y_hat = theta_0 + theta_1 * X\n",
    "pred = theta[0] + theta[1] * X\n",
    "visualize(X, y, pred, 'Sklearn model')"
   ]
  },
  {
   "cell_type": "markdown",
   "id": "142944c9",
   "metadata": {},
   "source": [
    "In conclusion, `our model` and model from `sklearn` library return same result."
   ]
  },
  {
   "cell_type": "markdown",
   "id": "7055d984",
   "metadata": {},
   "source": [
    "<a name='2' ></a>\n",
    "# 2. Gradient Descent\n",
    "\n",
    "Above part, we found a linear function to approximate a given data through inverse matrix. However, if our size of dataset is a few milion (bilion or more) rows and features instead of a few hundered, calculating inverse matrix waste a lot of time and memory. *Gradient Descent* is a very generic optimization algorithm capable of finding optimal\n",
    "solutions to a wide range of problems. The general idea of Gradient Descent is to tweak parameters iteratively in order to minimize a cost function.\n",
    "\n",
    "Suppose you are lost in the mountains in a dense fog; you can only feel the slope of the ground below your feet. A good strategy to get to the bottom of the valley quickly is to go downhill in the direction of the steepest slope. This is exactly what Gradient Descent does: it measures the local gradient of the error function with regards to the parameter vector $\\theta$, and it goes in the direction of descending gradient. Once the gradient is zero, you have reached a minimum! \n",
    "\n",
    "Concretely, you start by filling $\\theta$ with random values (this is called random initialization), and then you improve it gradually, taking one baby step at a time, each step attempting to decrease the cost function (e.g., the $MSE$), until the algorithm converges to a minimum\n",
    "\n",
    "<img title=\"Gradient Descent\" width=\"500\" alt=\"Gradient Descent\" src=\"images/gradient_descent.png\">\n",
    "<center>Image 3. $Gradient Descent$ </center>"
   ]
  },
  {
   "cell_type": "markdown",
   "id": "cdfd6ab3",
   "metadata": {},
   "source": [
    "An important parameter in Gradient Descent is the size of the steps, determined by\n",
    "the *learning rate* hyperparameter. If the learning rate is too small, then the algorithm\n",
    "will have to go through many iterations to converge, which will take a long time\n",
    "\n",
    "<img title=\"Gradient Descent\" width=\"500\" alt=\"Gradient Descent\" src=\"images/small_learning_rate.png\">\n",
    "<center>Image 4. Learning rate too small </center>\n",
    "\n",
    "On the other hand, if the learning rate is too high, you might jump across the valley\n",
    "and end up on the other side, possibly even higher up than you were before. This\n",
    "might make the algorithm diverge, with larger and larger values, failing to find a good\n",
    "solution\n",
    "\n",
    "<img title=\"Gradient Descent\" width=\"500\" alt=\"Gradient Descent\" src=\"images/large_learning_rate.png\">\n",
    "<center>Image 4. Learning rate too large </center>"
   ]
  },
  {
   "cell_type": "markdown",
   "id": "57b2d774",
   "metadata": {},
   "source": [
    "<a name='2.1' ></a>\n",
    "## 2.1 Gradient Formula \n",
    "\n",
    "*Gradient Descent Step:*\n",
    "\n",
    "$$\\theta^{next} = \\theta - \\eta \\nabla_{\\theta}J(\\theta) $$\n",
    "\n",
    "subject to\n",
    "\n",
    "- $\\theta$ is current value of vector parameters\n",
    "- $\\theta^{next}$ is next value of vector parameters\n",
    "- $\\nabla_{\\theta}J(\\theta)$ is *gradient* of cost function $J$ to $\\theta$\n",
    "- $\\eta$ is *learning rate* that we choose to control how big a single update will be\n",
    "\n",
    "Recall:\n",
    "\n",
    "$$\\nabla_{\\theta } J(\\theta) = \n",
    "\\begin{bmatrix}\n",
    "\\frac{\\partial J}{\\partial \\theta_0} \\\\ \n",
    "\\frac{\\partial J}{\\partial \\theta_1} \\\\\n",
    "\\frac{\\partial J}{\\partial \\theta_2} \\\\\n",
    "\\vdots \\\\\n",
    "\\frac{\\partial J}{\\partial \\theta_n} \\\\ \n",
    "\\end{bmatrix}\n",
    "$$\n",
    "\n",
    "From formular $(4)$\n",
    "\n",
    "\\begin{align*}\n",
    "\\frac{\\partial J}{\\partial \\theta_j} &= \\frac{\\partial}{\\partial \\theta_j} \\left( \\frac{1}{m} (X\\theta - y)^2 \\right) \\\\\n",
    "&= \\frac{2}{m} \\sum_{i=1}^{m} (\\theta^T x^{(i)} - y^{(i)})x_j^{(i)}\n",
    "\\end{align*}\n",
    "\n",
    "Therefore\n",
    "\n",
    "$$\\nabla_{\\theta}J(\\theta) = \\frac{2}{m} X^T(X\\theta - y)$$"
   ]
  },
  {
   "cell_type": "markdown",
   "id": "f27514e2",
   "metadata": {},
   "source": [
    "<a name='2.2' ></a>\n",
    "## 2.2 Implement\n",
    "\n",
    "- Cost function $J(\\theta)$\n",
    "- Gradient descent through each step"
   ]
  },
  {
   "cell_type": "code",
   "execution_count": 8,
   "id": "8756aadb",
   "metadata": {},
   "outputs": [],
   "source": [
    "def cost_function(X, y, theta):\n",
    "    '''\n",
    "        Args:\n",
    "            X: a matrix with dimension (m, n)\n",
    "            y: a vector with dimension (m, 1)\n",
    "            theta: a vector with dimension (n, 1)  \n",
    "        Return:\n",
    "            J: a float value, MSE - mean square error \n",
    "    '''\n",
    "    \n",
    "    # Calculate loss\n",
    "    m = len(X)\n",
    "    J = 1/m * np.dot((np.dot(X, theta) - y).T, np.dot(X, theta) - y)\n",
    "    \n",
    "    # Reduce dimension if not need\n",
    "    # Example: [[1.234]] -> 1.234\n",
    "    return np.squeeze(J)"
   ]
  },
  {
   "cell_type": "code",
   "execution_count": 9,
   "id": "14bfd0fb",
   "metadata": {},
   "outputs": [],
   "source": [
    "def gradient_descent(X, y, theta, eta, num_iters=300, verbose=False, visualize=False):\n",
    "    '''\n",
    "        Args:\n",
    "            X: a matrix with dimension (m, n+1)\n",
    "            y: a vector with dimension (m, 1)\n",
    "            theta: a vector with dimension (n+1, 1) \n",
    "            eta: learning rate \n",
    "            num_iters: the number of iterations use to update weight\n",
    "            verbose: True if you want to print information when iterating\n",
    "            visualize: True if you want to see the change of theta through each iteration\n",
    "        Returns:\n",
    "            J: the last cost \n",
    "            theta: last vector weight\n",
    "    '''\n",
    "    # get the number of training examples \n",
    "    m = len(X)\n",
    "    \n",
    "    # loop to update weight\n",
    "    for i in range(num_iters):\n",
    "        J = cost_function(X, y, theta)\n",
    "        gradient = 2/m * np.dot(X.T, np.dot(X, theta) - y)\n",
    "        theta = theta - eta * 2/m * gradient\n",
    "        \n",
    "        # print information\n",
    "        if verbose and i % 100 == 0:\n",
    "            print(f\"The cost at loop {i} is {J:.8f}.\")\n",
    "        \n",
    "        # Visualization for only 2-D\n",
    "        if visualize and i % 25 == 0:   \n",
    "            weight = np.squeeze(theta)\n",
    "            pred = np.dot(X, theta)\n",
    "            plt.plot(X[:, 1], pred, color='g')\n",
    "\n",
    "    return J, np.squeeze(theta)"
   ]
  },
  {
   "cell_type": "markdown",
   "id": "1d0a0eec",
   "metadata": {},
   "source": [
    "<a name='2.3' ></a>\n",
    "## 2.3 Apply Model\n",
    "\n",
    "- **Note:** When using Gradient Descent, you should ensure that all features have a similar scale (e.g., using Scikit-Learn’s StandardScaler class), or else it will take much longer to converge."
   ]
  },
  {
   "cell_type": "code",
   "execution_count": 13,
   "id": "214dcaa0",
   "metadata": {},
   "outputs": [
    {
     "name": "stdout",
     "output_type": "stream",
     "text": [
      "The cost at loop 0 is 44.57859952.\n",
      "The cost at loop 100 is 2.34880370.\n",
      "The cost at loop 200 is 1.22354678.\n",
      "The cost at loop 300 is 1.15959431.\n",
      "The cost at loop 400 is 1.12993791.\n",
      "The cost at loop 500 is 1.10683961.\n",
      "The cost at loop 600 is 1.08843780.\n",
      "The cost at loop 700 is 1.07376677.\n",
      "The cost at loop 800 is 1.06206987.\n",
      "The cost at loop 900 is 1.05274417.\n",
      "The cost at loop 1000 is 1.04530899.\n",
      "The cost at loop 1100 is 1.03938107.\n",
      "The cost at loop 1200 is 1.03465487.\n",
      "The cost at loop 1300 is 1.03088676.\n",
      "The cost at loop 1400 is 1.02788253.\n",
      "The cost at loop 1500 is 1.02548731.\n",
      "The cost at loop 1600 is 1.02357766.\n",
      "The cost at loop 1700 is 1.02205513.\n",
      "The cost at loop 1800 is 1.02084125.\n",
      "The cost at loop 1900 is 1.01987345.\n",
      "\n",
      "\n",
      "Theta: [3.91809221 3.09323809]\n"
     ]
    },
    {
     "data": {
      "image/png": "[encoded data removed]",
      "text/plain": [
       "<Figure size 1080x576 with 1 Axes>"
      ]
     },
     "metadata": {
      "needs_background": "light"
     },
     "output_type": "display_data"
    }
   ],
   "source": [
    "np.random.seed(365)\n",
    "\n",
    "# Initialize \n",
    "n = X.shape[1]\n",
    "initial_theta = np.random.randn(n+1, 1)\n",
    "eta = 0.2\n",
    "num_iters = 2000\n",
    "\n",
    "# Set firgure for visualization\n",
    "plt.figure(figsize=(15, 8))\n",
    "#X_train[:, 1:] = X, after remove X0 = 1\n",
    "plt.scatter(X_train[:, 1:], y, color='b') \n",
    "plt.xlabel('X', size=15)\n",
    "plt.ylabel('y', size=15)\n",
    "plt.grid()\n",
    "plt.title('Change of theta', size=20)\n",
    "\n",
    "# Calculate\n",
    "J, theta = gradient_descent(X_train, y, initial_theta, eta, num_iters, verbose=True, visualize=True)\n",
    "print(f'\\n\\nTheta: {theta}')"
   ]
  },
  {
   "cell_type": "markdown",
   "id": "400adbc0",
   "metadata": {},
   "source": [
    "<a name='3' ></a>\n",
    "# You Should Know?\n",
    "\n",
    "- Gradient Descent is used in our notebook that is Batch Gradient Descent. Besides, there are some of others such as Stochastic Gradient Descent, Mini-batch Gradient Descent "
   ]
  }
 ],
 "metadata": {
  "kernelspec": {
   "display_name": "Python 3",
   "language": "python",
   "name": "python3"
  },
  "language_info": {
   "codemirror_mode": {
    "name": "ipython",
    "version": 3
   },
   "file_extension": ".py",
   "mimetype": "text/x-python",
   "name": "python",
   "nbconvert_exporter": "python",
   "pygments_lexer": "ipython3",
   "version": "3.8.10"
  },
  "latex_envs": {
   "LaTeX_envs_menu_present": true,
   "autoclose": false,
   "autocomplete": true,
   "bibliofile": "biblio.bib",
   "cite_by": "apalike",
   "current_citInitial": 1,
   "eqLabelWithNumbers": true,
   "eqNumInitial": 1,
   "hotkeys": {
    "equation": "Ctrl-E",
    "itemize": "Ctrl-I"
   },
   "labels_anchors": false,
   "latex_user_defs": false,
   "report_style_numbering": false,
   "user_envs_cfg": false
  }
 },
 "nbformat": 4,
 "nbformat_minor": 5
}
