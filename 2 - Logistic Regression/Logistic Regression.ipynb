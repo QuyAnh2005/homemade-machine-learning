{
 "cells": [
  {
   "cell_type": "markdown",
   "id": "f470ce54",
   "metadata": {},
   "source": [
    "# Logistic Regression\n",
    "\n",
    "## Overview\n",
    "- [1. Regression and Sigmoid](#1)\n",
    "- [2. Cost function and Gradient](#2)\n",
    "    - [Cost function](#2.0)\n",
    "    - [Partial derivative of  $𝐽(\\theta)$](#2.1)\n",
    "    - [Update the weights](#2.2)\n",
    "    - [Implement gradient descent function](#2.3)\n",
    "- [3. Training model](#3)\n",
    "    - [Import dataset](#3.1)\n",
    "    - [Model](#3.2)\n",
    "- [4. Test model](#4)\n",
    "    - [Your model](#4.1)\n",
    "    - [Sklearn model](#4.2)\n",
    "- [5. Reference](#5)\n",
    "\n",
    "\n",
    "\n",
    "## Import package"
   ]
  },
  {
   "cell_type": "code",
   "execution_count": 1,
   "id": "6dd5c469",
   "metadata": {},
   "outputs": [],
   "source": [
    "import numpy as np\n",
    "import pandas as pd\n",
    "import warnings\n",
    "\n",
    "from matplotlib import pyplot as plt\n",
    "\n",
    "warnings.filterwarnings('ignore')"
   ]
  },
  {
   "cell_type": "markdown",
   "id": "883ea96e",
   "metadata": {},
   "source": [
    "<a name='1' ></a>\n",
    "## 1. Regression and Sigmoid\n",
    "\n",
    "Logistic Regression using sigmoid function for text classification.\n",
    "* Sigmoid function is defined as: \n",
    "\n",
    "$$ h(z) = \\frac{1}{1+\\exp^{-z}}$$\n",
    "\n",
    "where $z$ is a regular linear regression\n",
    "\n",
    "$$ z = \\theta_0 x_0 + \\theta_1 x_1 + \\theta_2 x_2 + ... \\theta_N x_N $$\n",
    "\n",
    "It maps the input $z$ to a value that ranges between $0$ and $1$, and so it can be treated as a probability.\n",
    "\n",
    "<div style=\"width:image width px; font-size:100%; text-align:center;\"><img src='images/sigmoid_plot.jpg' alt=\"alternate text\" width=\"width\" height=\"height\" style=\"width:600px;height:400px;\" /> Figure 1. Sigmoid function </div>"
   ]
  },
  {
   "cell_type": "code",
   "execution_count": 2,
   "id": "d0936160",
   "metadata": {},
   "outputs": [],
   "source": [
    "def sigmoid(z): \n",
    "    '''\n",
    "    Input:\n",
    "        z: is the input (can be a scalar or an array)\n",
    "    Output:\n",
    "        h: the sigmoid of z\n",
    "    '''\n",
    "    \n",
    "    h = 1 / (1 + np.exp(-z))\n",
    "    \n",
    "    return h"
   ]
  },
  {
   "cell_type": "code",
   "execution_count": 3,
   "id": "b026a4c2",
   "metadata": {},
   "outputs": [
    {
     "name": "stdout",
     "output_type": "stream",
     "text": [
      "SUCCESS!\n",
      "CORRECT!\n"
     ]
    }
   ],
   "source": [
    "# Test sigmoid function\n",
    "if sigmoid(0) == 0.5:\n",
    "    print('SUCCESS!')\n",
    "else:\n",
    "    print('Oops!')\n",
    "\n",
    "if sigmoid(4.92) == 0.9927537604041685:\n",
    "    print('CORRECT!')\n",
    "else:\n",
    "    print('Oops again!')"
   ]
  },
  {
   "cell_type": "markdown",
   "id": "727db750",
   "metadata": {},
   "source": [
    "<a name='2' ></a>\n",
    "## 2. Cost function and Gradient\n",
    "\n",
    "<a name='2.0' ></a>\n",
    "### Cost function\n",
    "We have: \n",
    "\n",
    "$$ P(y|x^{(i)}, \\theta) = h(x^{(i)}, \\theta)^{y^{(i)}}(1-h(x^{(i)}, \\theta))^{1-y^{(i)}} $$\n",
    "\n",
    "where $y^{(i)} \\in \\{0, 1\\}$\n",
    "\n",
    "Now we want to find a way to model the entire data set and not just one example. To do so, we will define the likelihood as follows:\n",
    "\n",
    "$$ L(\\theta) = \\prod_{i=1}^{m} P(y|x^{(i)}, \\theta) = \\prod_{i=1}^{m} h(x^{(i)}, \\theta)^{y^{(i)}}(1-h(x^{(i)}, \\theta))^{1-y^{(i)}} $$\n",
    "\n",
    "One issue is that as mmm gets larger, what happens to $L(\\theta)$? It goes close to zero, because both numbers $h(x^{(i)}, \\theta)$ and $(1-h(x^{(i)}, \\theta))$ are bounded between 0 and 1. Since we are trying to maximize $h(\\theta, x^{(i)})$ in $L(\\theta)$, we can introduce the log and just maximize the log of the function.\n",
    "\n",
    "\\begin{align*}\n",
    "max_{h(x^{(i)},\\theta)} logL(\\theta) &=log \\prod_{i=1}^m h(x^{(i)}, \\theta)^{y^{(i)}}(1-h(x^{(i)}, \\theta))^{1-y^{(i)}} \\\\\n",
    "&= \\sum_{i=1}^{m} log h(x^{(i)}, \\theta)^{y^{(i)}}(1-h(x^{(i)}, \\theta))^{1-y^{(i)}} \\\\\n",
    "&= \\sum_{i=1}^m y^{(i)}\\log (h(z(\\theta)^{(i)})) + (1-y^{(i)})\\log (1-h(z(\\theta)^{(i)}) \\\\\n",
    "\\end{align*}\n",
    "\n",
    "Hence, we now divide by m, because we want to see the average cost. \n",
    "\n",
    "$$\\frac{1}{m} \\sum_{i=1}^m y^{(i)}\\log (h(z(\\theta)^{(i)})) + (1-y^{(i)})\\log (1-h(z(\\theta)^{(i)})\n",
    "$$\n",
    "\n",
    "Remember that we were maximizing $h(\\theta, x^{(i)})$ in the equation above. It turns out that maximizing an equation is the same as minimizing its negative. Hence we add a negative sign and we end up minimizing the cost function.The cost function used for logistic regression is the average of the log loss across all training examples:\n",
    "\n",
    "$$J(\\theta) = -\\frac{1}{m} \\sum_{i=1}^m y^{(i)}\\log (h(z(\\theta)^{(i)})) + (1-y^{(i)})\\log (1-h(z(\\theta)^{(i)}))$$\n",
    "* $m$ is the number of training examples\n",
    "* $y^{(i)}$ is the actual label of the i-th training example.\n",
    "* $h(z(\\theta)^{(i)})$ is the model's prediction for the i-th training example.\n",
    "\n",
    "\n",
    "The loss function for a single training example is\n",
    "$$ Loss = -1 \\times \\left( y^{(i)}\\log (h(z(\\theta)^{(i)})) + (1-y^{(i)})\\log (1-h(z(\\theta)^{(i)})) \\right)$$\n",
    "\n",
    "* All the $h$ values are between 0 and 1, so the logs will be negative. That is the reason for the factor of -1 applied to the sum of the two loss terms.\n",
    "* Note that when the model predicts 1 ($h(z(\\theta)) = 1$) and the label $y$ is also 1, the loss for that training example is 0. \n",
    "* Similarly, when the model predicts 0 ($h(z(\\theta)) = 0$) and the actual label is also 0, the loss for that training example is 0. \n",
    "* However, when the model prediction is close to 1 ($h(z(\\theta)) = 0.9999$) and the label is 0, the second term of the log loss becomes a large negative number, which is then multiplied by the overall factor of -1 to convert it to a positive loss value. $-1 \\times (1 - 0) \\times log(1 - 0.9999) \\approx 9.2$ The closer the model prediction gets to 1, the larger the loss."
   ]
  },
  {
   "cell_type": "code",
   "execution_count": 4,
   "id": "e7cfdb6e",
   "metadata": {},
   "outputs": [
    {
     "data": {
      "text/plain": [
       "9.210340371976294"
      ]
     },
     "execution_count": 4,
     "metadata": {},
     "output_type": "execute_result"
    }
   ],
   "source": [
    "# verify that when the model predicts close to 1, but the actual label is 0, the loss is a large positive value\n",
    "-1 * (1 - 0) * np.log(1 - 0.9999) # loss is about 9.2"
   ]
  },
  {
   "cell_type": "code",
   "execution_count": 5,
   "id": "5570e2b8",
   "metadata": {},
   "outputs": [
    {
     "data": {
      "text/plain": [
       "9.210340371976182"
      ]
     },
     "execution_count": 5,
     "metadata": {},
     "output_type": "execute_result"
    }
   ],
   "source": [
    "# verify that when the model predicts close to 0 but the actual label is 1, the loss is a large positive value\n",
    "-1 * np.log(0.0001) # loss is about 9.2"
   ]
  },
  {
   "cell_type": "markdown",
   "id": "7929632e",
   "metadata": {},
   "source": [
    "<a name='2.1' ></a>\n",
    "### Partial derivative of $J(\\theta)$\n",
    "\n",
    "\n",
    "We have,\n",
    "\n",
    "$$\n",
    "\\frac{\\partial J(\\theta)}{\\partial \\theta_j} = \\frac{\\partial J}{\\partial h} \\frac{\\partial h}{\\partial z} \\frac{\\partial z}{\\partial \\theta_j} \\\\\n",
    "$$\n",
    "\n",
    "In here, we assume that $h=h^{(i)}, z=z^{(i)}$ for single training example\n",
    "\n",
    "\n",
    "\\begin{align*}\n",
    "\\frac{\\partial J(\\theta)}{\\partial h} &= \\left(-\\frac{1}{m} \\sum_{i=1}^m ylog h + (1-y)\\log (1-h) \\right)' \\\\\n",
    "&= -\\frac{1}{m} \\sum_{i=1}^m \\frac{y}{h} - \\frac{1-y}{1-h}  \\\\\n",
    "&= -\\frac{1}{m} \\sum_{i=1}^m \\frac{y - h}{h(1-h)} \\\\\n",
    "&= \\frac{1}{m} \\sum_{i=1}^m \\frac{h - y}{h(1-h)}\n",
    "\\end{align*}\n",
    "\n",
    "$$\n",
    "h(z)' = \\left( \\frac{1}{1+e^{-z}} \\right)' = \\frac{1}{1+e^{-z}}\\frac{e^{-z}}{1+e^{-z}} = h(z)(1-h(z)) = h(1-h)\n",
    "$$\n",
    "\n",
    "$$\\frac{\\partial z}{\\partial \\theta_j} = x_j$$\n",
    "\n",
    "Therefore,\n",
    "\\begin{align*}\n",
    "\\frac{\\partial J(\\theta)}{\\partial \\theta_j} &= \\frac{\\partial J}{\\partial h} \\frac{\\partial h}{\\partial z} \\frac{\\partial z}{\\partial \\theta_j} \\\\\n",
    "&= \\frac{1}{m} \\sum_{i=1}^m \\frac{h^{(i)} - y^{(i)}}{h^{(i)}(1-h^{(i)})} h^{(i)}(1-h^{(i)}) x_j \\\\\n",
    "&= \\frac{1}{m} \\sum_{i=1}^m(h^{(i)}-y^{(i)})x^{(i)}_j\n",
    "\\end{align*}"
   ]
  },
  {
   "cell_type": "markdown",
   "id": "300a0edf",
   "metadata": {},
   "source": [
    "<a name='2.2' ></a>\n",
    "### Update the weights\n",
    "\n",
    "To update your weight vector $\\theta$, you will apply gradient descent to iteratively improve your model's predictions.  \n",
    "The gradient of the cost function $J$ with respect to one of the weights $\\theta_j$ is:\n",
    "\n",
    "$$\\nabla_{\\theta_j}J(\\theta) = \\frac{1}{m} \\sum_{i=1}^m(h^{(i)}-y^{(i)})x^{(i)}_j$$\n",
    "* 'i' is the index across all 'm' training examples.\n",
    "* 'j' is the index of the weight $\\theta_j$, so $x^{(i)}_j$ is the feature associated with weight $\\theta_j$\n",
    "\n",
    "* To update the weight $\\theta_j$, we adjust it by subtracting a fraction of the gradient determined by $\\alpha$:\n",
    "$$\\theta_j = \\theta_j - \\alpha \\times \\nabla_{\\theta_j}J(\\theta) $$\n",
    "It is optimization algorithm called [Gradient Descent.](https://builtin.com/data-science/gradient-descent)\n",
    "* The learning rate $\\alpha$ is a value that we choose to control how big a single update will be.\n"
   ]
  },
  {
   "cell_type": "markdown",
   "id": "fe091684",
   "metadata": {},
   "source": [
    "<a name='2.3' ></a>\n",
    "### Implement gradient descent function\n",
    "* The number of iterations `num_iters` is the number of times that you'll use the entire training set.\n",
    "* For each iteration, you'll calculate the cost function using all training examples (there are `m` training examples), and for all features.\n",
    "* Instead of updating a single weight $\\theta_i$ at a time, we can update all the weights in the column vector:  \n",
    "$$\\mathbf{\\theta} = \\begin{pmatrix}\n",
    "\\theta_0\n",
    "\\\\\n",
    "\\theta_1\n",
    "\\\\ \n",
    "\\theta_2 \n",
    "\\\\ \n",
    "\\vdots\n",
    "\\\\ \n",
    "\\theta_n\n",
    "\\end{pmatrix}$$\n",
    "* $\\mathbf{\\theta}$ has dimensions (n+1, 1), where 'n' is the number of features, and there is one more element for the bias term $\\theta_0$ (note that the corresponding feature value $\\mathbf{X_0}$ is 1).\n",
    "* The 'logits', 'z', are calculated by multiplying the feature matrix 'x' with the weight vector 'theta'.  $z = \\mathbf{X}\\mathbf{\\theta}$\n",
    "    * $\\mathbf{X}$ has dimensions (m, n+1) \n",
    "    * $\\mathbf{\\theta}$: has dimensions (n+1, 1)\n",
    "    * $\\mathbf{z}$: has dimensions (m, 1)\n",
    "* The prediction 'h', is calculated by applying the sigmoid to each element in 'z': $h(z) = sigmoid(z)$, and has dimensions (m,1).\n",
    "* The cost function $J$ is calculated by taking the dot product of the vectors 'y' and 'log(h)'.  Since both 'y' and 'h' are column vectors (m,1), transpose the vector to the left, so that matrix multiplication of a row vector with column vector performs the dot product.\n",
    "$$J = \\frac{-1}{m} \\times \\left(\\mathbf{y}^T \\cdot log(\\mathbf{h}) + \\mathbf{(1-y)}^T \\cdot log(\\mathbf{1-h}) \\right)$$\n",
    "* The update of theta is also vectorized.  Because the dimensions of $\\mathbf{X}$ are (m, n+1), and both $\\mathbf{h}$ and $\\mathbf{y}$ are (m, 1), we need to transpose the $\\mathbf{X}$ and place it on the left in order to perform matrix multiplication, which then yields the (n+1, 1) answer we need:\n",
    "$$\\mathbf{\\theta} = \\mathbf{\\theta} - \\frac{\\alpha}{m} \\times \\left( \\mathbf{X}^T \\cdot \\left( \\mathbf{h-y} \\right) \\right)$$"
   ]
  },
  {
   "cell_type": "code",
   "execution_count": 6,
   "id": "a8ec5ce0",
   "metadata": {},
   "outputs": [],
   "source": [
    "def gradient_descent(X, y, theta, alpha, num_iters, verbose=False):\n",
    "    '''\n",
    "    Input:\n",
    "        X: matrix of features which is (m,n+1)\n",
    "        y: corresponding labels of the input matrix x, dimensions (m,1)\n",
    "        theta: weight vector of dimension (n+1,1)\n",
    "        alpha: learning rate\n",
    "        num_iters: number of iterations you want to train your model for\n",
    "        verbose: True if you want to print theta after each iteration\n",
    "    Output:\n",
    "        J: the final cost\n",
    "        theta: your final weight vector\n",
    "    '''\n",
    "    \n",
    "    # Get the number of training example (rows in matrix)\n",
    "    m = X.shape[0]\n",
    "    \n",
    "    # Loop and update theta\n",
    "    for i in range(num_iters): \n",
    "        \n",
    "        # Get z\n",
    "        z = np.dot(X, theta)\n",
    "        \n",
    "        # Get sigmoid of z from sigmoid function\n",
    "        h = sigmoid(z)\n",
    "        \n",
    "        # Calculate the cost function\n",
    "        J = -1 / m * (np.dot(y.T, np.log(h)) + np.dot((1-y).T, np.log(1-h)))\n",
    "        \n",
    "        # Update theta\n",
    "        theta = theta - alpha / m * np.dot(X.T, h-y)\n",
    "        \n",
    "        # Print or not\n",
    "        if verbose and i % 100 == 0: \n",
    "            print(f\"The cost at loop {i} is {float(J):.8f}.\")\n",
    "            print(f\"The resulting vector of weights at loop {i} is {[round(t, 8) for t in np.squeeze(theta)]}\\n\")\n",
    "                  \n",
    "    \n",
    "    return np.squeeze(J), np.squeeze(theta)"
   ]
  },
  {
   "cell_type": "markdown",
   "id": "e065e5bb",
   "metadata": {},
   "source": [
    "<a name='3' ></a>\n",
    "## 3. Training model\n",
    "<a name='3.1' ></a>\n",
    "### Import dataset\n",
    "In this part, [iris dataset](https://scikit-learn.org/stable/auto_examples/datasets/plot_iris_dataset.html) is used from sklearn library. "
   ]
  },
  {
   "cell_type": "code",
   "execution_count": 7,
   "id": "006db4ab",
   "metadata": {},
   "outputs": [
    {
     "name": "stdout",
     "output_type": "stream",
     "text": [
      "Feature: ['sepal length (cm)', 'sepal width (cm)', 'petal length (cm)', 'petal width (cm)']\n",
      "Target: ['setosa' 'versicolor' 'virginica']\n"
     ]
    },
    {
     "data": {
      "text/plain": [
       "(array([[0.2, 0.2, 0.2, 0.2, 0.2, 0.4, 0.3, 0.2, 0.2, 0.1, 0.2, 0.2, 0.1,\n",
       "         0.1, 0.2, 0.4, 0.4, 0.3, 0.3, 0.3, 0.2, 0.4, 0.2, 0.5, 0.2, 0.2,\n",
       "         0.4, 0.2, 0.2, 0.2, 0.2, 0.4, 0.1, 0.2, 0.2, 0.2, 0.2, 0.1, 0.2,\n",
       "         0.2, 0.3, 0.3, 0.2, 0.6, 0.4, 0.3, 0.2, 0.2, 0.2, 0.2, 1.4, 1.5,\n",
       "         1.5, 1.3, 1.5, 1.3, 1.6, 1. , 1.3, 1.4, 1. , 1.5, 1. , 1.4, 1.3,\n",
       "         1.4, 1.5, 1. , 1.5, 1.1, 1.8, 1.3, 1.5, 1.2, 1.3, 1.4, 1.4, 1.7,\n",
       "         1.5, 1. , 1.1, 1. , 1.2, 1.6, 1.5, 1.6, 1.5, 1.3, 1.3, 1.3, 1.2,\n",
       "         1.4, 1.2, 1. , 1.3, 1.2, 1.3, 1.3, 1.1, 1.3, 2.5, 1.9, 2.1, 1.8,\n",
       "         2.2, 2.1, 1.7, 1.8, 1.8, 2.5, 2. , 1.9, 2.1, 2. , 2.4, 2.3, 1.8,\n",
       "         2.2, 2.3, 1.5, 2.3, 2. , 2. , 1.8, 2.1, 1.8, 1.8, 1.8, 2.1, 1.6,\n",
       "         1.9, 2. , 2.2, 1.5, 1.4, 2.3, 2.4, 1.8, 1.8, 2.1, 2.4, 2.3, 1.9,\n",
       "         2.3, 2.5, 2.3, 1.9, 2. , 2.3, 1.8]]),\n",
       " array([0, 0, 0, 0, 0, 0, 0, 0, 0, 0, 0, 0, 0, 0, 0, 0, 0, 0, 0, 0, 0, 0,\n",
       "        0, 0, 0, 0, 0, 0, 0, 0, 0, 0, 0, 0, 0, 0, 0, 0, 0, 0, 0, 0, 0, 0,\n",
       "        0, 0, 0, 0, 0, 0, 0, 0, 0, 0, 0, 0, 0, 0, 0, 0, 0, 0, 0, 0, 0, 0,\n",
       "        0, 0, 0, 0, 0, 0, 0, 0, 0, 0, 0, 0, 0, 0, 0, 0, 0, 0, 0, 0, 0, 0,\n",
       "        0, 0, 0, 0, 0, 0, 0, 0, 0, 0, 0, 0, 1, 1, 1, 1, 1, 1, 1, 1, 1, 1,\n",
       "        1, 1, 1, 1, 1, 1, 1, 1, 1, 1, 1, 1, 1, 1, 1, 1, 1, 1, 1, 1, 1, 1,\n",
       "        1, 1, 1, 1, 1, 1, 1, 1, 1, 1, 1, 1, 1, 1, 1, 1, 1, 1]))"
      ]
     },
     "execution_count": 7,
     "metadata": {},
     "output_type": "execute_result"
    }
   ],
   "source": [
    "from sklearn import datasets\n",
    "\n",
    "iris = datasets.load_iris()\n",
    "print(f'Feature: {iris[\"feature_names\"]}')\n",
    "print(f'Target: {iris[\"target_names\"]}')\n",
    "\n",
    "\n",
    "X = iris['data'][:, 3:] # petal width feature\n",
    "y = (iris['target'] == 2).astype(np.int) # label - virginica\n",
    "\n",
    "# Overview about dataset\n",
    "X.T, y"
   ]
  },
  {
   "cell_type": "markdown",
   "id": "3d1f0c4c",
   "metadata": {},
   "source": [
    "<a name='3.2' ></a>\n",
    "### Model\n",
    "We will use model that built from previous part to predict virginica or not-virginica"
   ]
  },
  {
   "cell_type": "code",
   "execution_count": 8,
   "id": "aabfdd33",
   "metadata": {},
   "outputs": [
    {
     "name": "stdout",
     "output_type": "stream",
     "text": [
      "The cost at loop 0 is 1.14561943.\n",
      "The resulting vector of weights at loop 0 is [0.68991315, 0.45296525]\n",
      "\n",
      "The cost at loop 100 is 0.29796711.\n",
      "The resulting vector of weights at loop 100 is [-3.4163259, 2.12978578]\n",
      "\n",
      "The cost at loop 200 is 0.23878439.\n",
      "The resulting vector of weights at loop 200 is [-4.86752942, 3.00835505]\n",
      "\n",
      "The cost at loop 300 is 0.21114561.\n",
      "The resulting vector of weights at loop 300 is [-5.86895108, 3.61186092]\n",
      "\n",
      "The cost at loop 400 is 0.19399025.\n",
      "The resulting vector of weights at loop 400 is [-6.65949535, 4.08873258]\n",
      "\n",
      "The cost at loop 500 is 0.18196177.\n",
      "The resulting vector of weights at loop 500 is [-7.32176578, 4.48895349]\n",
      "\n"
     ]
    }
   ],
   "source": [
    "np.random.seed(365)\n",
    "\n",
    "m = X.shape[0]    # total training examples\n",
    "n = X.shape[1]    # number of features\n",
    "X0 = np.ones((m, 1))    # bias\n",
    "theta = np.random.rand(n+1, 1)\n",
    "alpha = 0.5\n",
    "num_iters = 600\n",
    "y_train = y.reshape(m, 1)\n",
    "\n",
    "X_train = np.c_[X0, X]\n",
    "J, theta = gradient_descent(X_train, y_train, theta, alpha, num_iters, verbose=True)"
   ]
  },
  {
   "cell_type": "markdown",
   "id": "db0f93bf",
   "metadata": {},
   "source": [
    "<a name='4' ></a>\n",
    "## 4. Test model\n",
    "Before testing your model, we need to implement predict function for input from $\\theta$ parameters that trained through `gradient_descent`. Sigmoid function returns a float, we can convert to binary by this way:\n",
    "\n",
    "\\begin{equation}\n",
    "  \\hat{p} =\n",
    "    \\begin{cases}\n",
    "      1 & \\text{if $h(z) \\geq 0.5$ }\\\\\n",
    "      0 & \\text{if $h(z) < 0.5$}\n",
    "    \\end{cases}       \n",
    "\\end{equation}\n",
    "\n",
    "<a name='4.1' ></a>\n",
    "### Your model"
   ]
  },
  {
   "cell_type": "code",
   "execution_count": 9,
   "id": "126f99c5",
   "metadata": {},
   "outputs": [],
   "source": [
    "def predict(X_test, theta, threshold):\n",
    "    '''\n",
    "        Args: \n",
    "            X_test: matrix of features which is (m,n+1)\n",
    "            theta: vector parameters which is (n+1, 1)\n",
    "            threshold: value to decide that input is label 0 or 1\n",
    "        Returns:\n",
    "            predict_prob:\n",
    "            predict_binary: \n",
    "    '''\n",
    "    # get z\n",
    "    z = np.dot(X_test, theta)\n",
    "    # predict probability whether is virginica or non-virginica\n",
    "    predict_proba = sigmoid(z)\n",
    "    # convert to binary\n",
    "    predict_binary = (predict_proba >= threshold).astype(np.int)\n",
    "    \n",
    "    return predict_proba, predict_binary"
   ]
  },
  {
   "cell_type": "code",
   "execution_count": 10,
   "id": "234eba1d",
   "metadata": {},
   "outputs": [
    {
     "data": {
      "image/png": "[encoded data removed]",
      "text/plain": [
       "<Figure size 432x288 with 1 Axes>"
      ]
     },
     "metadata": {
      "needs_background": "light"
     },
     "output_type": "display_data"
    }
   ],
   "source": [
    "# Test model\n",
    "np.random.seed(365)\n",
    "\n",
    "num = 1000    # the number of testing examples\n",
    "threshold = 0.5\n",
    "X_generate = np.linspace(0, 3, num).reshape(-1, 1)    # generate petal width feature\n",
    "X_test = np.c_[np.ones((num, 1)), X_generate]    # add X0=1\n",
    "\n",
    "predict_proba, predict_binary = predict(X_test, theta, threshold)\n",
    "\n",
    "# Choose indice\n",
    "non_vir = np.random.choice(num//2 - 50, 10)\n",
    "vir = np.random.choice(range(num//2 + 50, num), 10)\n",
    "\n",
    "# plot\n",
    "plt.scatter(X_generate[vir, :], predict_binary[vir], color=\"g\")\n",
    "plt.scatter(X_generate[non_vir, :], predict_binary[non_vir], color=\"b\")\n",
    "plt.plot(X_generate, predict_proba, \"g-\", label=\"Iris-Virginica\")\n",
    "plt.plot(X_generate, 1 - predict_proba, \"b--\", label=\"Not Iris-Virginica\")\n",
    "plt.legend()\n",
    "plt.grid()"
   ]
  },
  {
   "cell_type": "markdown",
   "id": "bc4d9854",
   "metadata": {},
   "source": [
    "<a name='4.2' ></a>\n",
    "### Sklearn model"
   ]
  },
  {
   "cell_type": "code",
   "execution_count": 12,
   "id": "dac0f96b",
   "metadata": {},
   "outputs": [
    {
     "name": "stdout",
     "output_type": "stream",
     "text": [
      "Theta: [-7.194708301503785 4.333084596585777]\n"
     ]
    },
    {
     "data": {
      "image/png": "[encoded data removed]",
      "text/plain": [
       "<Figure size 432x288 with 1 Axes>"
      ]
     },
     "metadata": {
      "needs_background": "light"
     },
     "output_type": "display_data"
    }
   ],
   "source": [
    "from sklearn.linear_model import LogisticRegression\n",
    "\n",
    "model = LogisticRegression(max_iter=600)\n",
    "model.fit(X, y)\n",
    "\n",
    "theta_model = np.squeeze([model.intercept_, model.coef_])\n",
    "print(f'Theta: {theta_model}')\n",
    "predict_proba, predict_binary = model.predict_proba(X_generate), model.predict(X_generate)\n",
    "\n",
    "# plot\n",
    "plt.scatter(X_generate[vir, :], predict_binary[vir], color=\"g\")\n",
    "plt.scatter(X_generate[non_vir, :], predict_binary[non_vir], color=\"b\")\n",
    "plt.plot(X_generate, predict_proba[:, 1], \"g-\", label=\"Iris-Virginica\")\n",
    "plt.plot(X_generate, predict_proba[:, 0], \"b--\", label=\"Not Iris-Virginica\")\n",
    "plt.legend()\n",
    "plt.grid()"
   ]
  },
  {
   "cell_type": "markdown",
   "id": "45ddfcea",
   "metadata": {},
   "source": [
    "**Note:**\n",
    "- We build this simple model from scratch to help you understand more deeply about Logistic Regression. However, Logistic Regression model in sklearn library has used many techniques to improve and develope. A little change in our model can make a different result than in sklearn.\n",
    "- The hyperparameter controlling the regularization strength of a Scikit-Learn LogisticRegression model is not $\\alpha$ (as in other linear models), but its inverse: $C$ . The higher the value of $C$ , the less the model is regularized."
   ]
  },
  {
   "cell_type": "markdown",
   "id": "82cfc0fa",
   "metadata": {},
   "source": [
    "<a name='5' ></a>\n",
    "## Reference\n",
    "- [Sentiment Analysis with Logistic Regression, Natural Language Processing with Classification and Vector Spaces](https://www.coursera.org/learn/classification-vector-spaces-in-nlp#syllabus)\n"
   ]
  }
 ],
 "metadata": {
  "kernelspec": {
   "display_name": "Python 3",
   "language": "python",
   "name": "python3"
  },
  "language_info": {
   "codemirror_mode": {
    "name": "ipython",
    "version": 3
   },
   "file_extension": ".py",
   "mimetype": "text/x-python",
   "name": "python",
   "nbconvert_exporter": "python",
   "pygments_lexer": "ipython3",
   "version": "3.8.10"
  },
  "latex_envs": {
   "LaTeX_envs_menu_present": true,
   "autoclose": false,
   "autocomplete": true,
   "bibliofile": "biblio.bib",
   "cite_by": "apalike",
   "current_citInitial": 1,
   "eqLabelWithNumbers": true,
   "eqNumInitial": 1,
   "hotkeys": {
    "equation": "Ctrl-E",
    "itemize": "Ctrl-I"
   },
   "labels_anchors": false,
   "latex_user_defs": false,
   "report_style_numbering": false,
   "user_envs_cfg": false
  }
 },
 "nbformat": 4,
 "nbformat_minor": 5
}
